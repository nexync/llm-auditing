{
 "cells": [
  {
   "cell_type": "code",
   "execution_count": 4,
   "id": "118e2de8-1912-4ffa-9efe-cb647203e8ad",
   "metadata": {
    "ExecuteTime": {
     "end_time": "2024-05-09T18:31:14.691176100Z",
     "start_time": "2024-05-09T18:31:13.555545200Z"
    }
   },
   "outputs": [],
   "source": [
    "import json\n",
    "import matplotlib.pyplot as plt\n",
    "import numpy as np\n",
    "import string\n",
    "from fuzzywuzzy import fuzz"
   ]
  },
  {
   "cell_type": "code",
   "execution_count": 14,
   "id": "a89094c9-1bd3-4985-95a1-e3dd1919183f",
   "metadata": {
    "ExecuteTime": {
     "end_time": "2024-05-09T20:47:25.573577600Z",
     "start_time": "2024-05-09T20:47:25.566603500Z"
    }
   },
   "outputs": [],
   "source": [
    "#read data from jsonl file\n",
    "def read_data(file_path):\n",
    "    objs = []\n",
    "    with open(file_path, \"r\") as f:\n",
    "        for line in f:\n",
    "            obj = json.loads(line)\n",
    "            objs.append(obj)\n",
    "    return objs\n",
    "\n",
    "def accuracy(answers, true_answers, threshold=85, start = 50, end = 501, step = 50):\n",
    "    iters = np.array(range(start, end, step)).astype(str)\n",
    "    leng = len(iters)\n",
    "    # Initialize lists to store questions, answers, and true answers for each iteration\n",
    "    questions = [[] for _ in range(leng+1)]\n",
    "    ans = [[] for _ in range(leng+1)]\n",
    "    true_a = [[] for _ in range(leng+1)]\n",
    "    counts = np.array([0] * (leng+1))\n",
    "    total = len(answers)\n",
    "    correct = 0\n",
    "    # Iterate over the answers and true answers\n",
    "    for a, t in zip(answers, true_answers):\n",
    "        solved = False\n",
    "        answer = t['answer']\n",
    "        for i in range(leng):\n",
    "            # Check if the answer is contained within the decoded answers for the current iteration\n",
    "            # Use fuzzy matching to account for minor differences\n",
    "            similarity = fuzz.partial_ratio(answer.lower(), a[iters[i]].lower())\n",
    "            if similarity >= threshold:\n",
    "            # if remove_punctuation(answer.lower()) in a[iters[i]].lower():\n",
    "                correct += 1\n",
    "                counts[i] += 1\n",
    "                questions[i].append(a[\"Question\"])\n",
    "                ans[i].append(a[iters[i]])\n",
    "                true_a[i].append(answer)\n",
    "                solved = True\n",
    "                break\n",
    "        # If the answer was not solved, add it to the unsolved list\n",
    "        if not solved:\n",
    "            counts[-1] += 1\n",
    "            questions[leng].append(a[\"Question\"])\n",
    "            ans[leng].append(a[\"Answer\"])\n",
    "            true_a[leng].append(answer)\n",
    "    acc = correct / total\n",
    "    return acc, counts, questions, ans, true_a\n",
    "\n",
    "def barplot(counts, out_path = None, save = False, start = 50, end = 501, step = 50):\n",
    "    iters = np.array(range(start, end, step)).astype(str)\n",
    "    iters = np.append(iters, \"unsolved\")\n",
    "    fig = plt.figure(figsize =(10, 5))\n",
    "    plt.bar(iters, counts, color='skyblue')\n",
    "    plt.xlabel('Iterations')\n",
    "    plt.ylabel('Counts')\n",
    "    plt.title('Counts for decoded Iterations')\n",
    "    plt.savefig(out_path) if save else plt.show() \n",
    "    \n",
    "def barplot_multi(counts_list, names, out_path = None, save = False, start = 50, end = 501, step = 50):\n",
    "    iters = np.array(range(start, end, step)).astype(str)\n",
    "    iters = np.append(iters, \"unsolved\")\n",
    "    bar_width = 0.25  # Width of each bar\n",
    "    x_indexes = np.arange(len(iters))  # X indexes based on the number of iterations\n",
    "\n",
    "    fig, ax = plt.subplots(figsize=(10, 6))\n",
    "\n",
    "    # Plot each count list with an offset\n",
    "    for i, counts in enumerate(counts_list):\n",
    "        bar_positions = x_indexes + i * bar_width\n",
    "        ax.bar(bar_positions, counts, width=bar_width)\n",
    "\n",
    "    # Add legend and labels\n",
    "    ax.legend(names)\n",
    "    ax.set_xlabel('Iterations')\n",
    "    ax.set_ylabel('Counts')\n",
    "    ax.set_title('Counts for Decoded Iterations')\n",
    "    ax.set_xticks(x_indexes + (len(counts_list) - 1) * bar_width / 2)  # Adjust tick positions\n",
    "    ax.set_xticklabels(iters)\n",
    "\n",
    "    # Save or display\n",
    "    if save and out_path:\n",
    "        plt.savefig(out_path)\n",
    "    else:\n",
    "        plt.show()\n",
    "    \n",
    "def remove_punctuation(text):\n",
    "    translator = str.maketrans('', '', string.punctuation)\n",
    "    return text.translate(translator)"
   ]
  },
  {
   "cell_type": "code",
   "outputs": [
    {
     "name": "stdout",
     "output_type": "stream",
     "text": [
      "Accuracy for gcg: 0.8666666666666667\n",
      "Accuracy for gcg long: 0.9666666666666667\n",
      "Accuracy for gcg concurrent: 0.6666666666666666\n",
      "Accuracy for gcg concurrent long: 0.8333333333333334\n",
      "Accuracy for causal: 0.2\n",
      "Accuracy for causal long: 0.26666666666666666\n"
     ]
    }
   ],
   "source": [
    "#data\n",
    "gcg = read_data(\"/Users/stevie/Documents/llm/llm-auditing/data/results/gcg.jsonl\")\n",
    "gcg_l = read_data(\"/Users/stevie/Documents/llm/llm-auditing/data/results/gcg_long.jsonl\")\n",
    "gcg_ccr = read_data(\"/Users/stevie/Documents/llm/llm-auditing/data/results/gcg_concurrent.jsonl\")\n",
    "gcg_ccr_l = read_data(\"/Users/stevie/Documents/llm/llm-auditing/data/results/gcg_concurrent_long.jsonl\")\n",
    "causal = read_data(\"/Users/stevie/Documents/llm/llm-auditing/data/results/causal.jsonl\")\n",
    "causal_l = read_data(\"/Users/stevie/Documents/llm/llm-auditing/data/results/causal_long.jsonl\")\n",
    "\n",
    "#answers\n",
    "true_ans_l = read_data(\"/Users/stevie/Documents/llm/llm-auditing/data/qa_pairs_long.jsonl\")\n",
    "true_answers = read_data(\"/Users/stevie/Documents/llm/llm-auditing/data/qa_pairs.jsonl\")\n",
    "\n",
    "data_files = [\n",
    "    (\"gcg\", gcg),\n",
    "    (\"gcg long\", gcg_l),\n",
    "    (\"gcg concurrent\", gcg_ccr),\n",
    "    (\"gcg concurrent long\", gcg_ccr_l)\n",
    "]\n",
    "indexed_results = []\n",
    "for dataset_name, objs in data_files:\n",
    "    acc, count, questions, answers, true_ans = accuracy(objs, true_answers)\n",
    "    indexed_results.append({\n",
    "        \"name\": dataset_name,\n",
    "        \"accuracy\": acc,\n",
    "        \"count\": count,\n",
    "        \"questions\": questions,\n",
    "        \"answers\": answers,\n",
    "        \"true_answers\": true_ans\n",
    "    })\n",
    "    print(f\"Accuracy for {dataset_name}: {acc}\")\n",
    "    \n",
    "data_files_causal = [\n",
    "    (\"causal\", causal),\n",
    "    (\"causal long\", causal_l)\n",
    "]\n",
    "indexed_results_causal = []\n",
    "for dataset_name, objs in data_files_causal:\n",
    "    acc, count, questions, answers, true_ans = accuracy(objs, true_answers, 95, 16, 65, 16)\n",
    "    indexed_results_causal.append({\n",
    "        \"name\": dataset_name,\n",
    "        \"accuracy\": acc,\n",
    "        \"count\": count,\n",
    "        \"questions\": questions,\n",
    "        \"answers\": answers,\n",
    "        \"true_answers\": true_ans\n",
    "    })\n",
    "    print(f\"Accuracy for {dataset_name}: {acc}\")"
   ],
   "metadata": {
    "collapsed": false,
    "ExecuteTime": {
     "end_time": "2024-05-09T20:55:23.119247700Z",
     "start_time": "2024-05-09T20:55:22.927548600Z"
    }
   },
   "id": "7ffa52e99c7c7a37",
   "execution_count": 47
  },
  {
   "cell_type": "code",
   "outputs": [
    {
     "data": {
      "text/plain": "<Figure size 1000x600 with 1 Axes>",
      "image/png": "[encoded data removed]"
     },
     "metadata": {},
     "output_type": "display_data"
    },
    {
     "ename": "ValueError",
     "evalue": "shape mismatch: objects cannot be broadcast to a single shape.  Mismatch is between arg 0 with shape (11,) and arg 1 with shape (5,).",
     "output_type": "error",
     "traceback": [
      "\u001B[0;31m---------------------------------------------------------------------------\u001B[0m",
      "\u001B[0;31mValueError\u001B[0m                                Traceback (most recent call last)",
      "Cell \u001B[0;32mIn[16], line 5\u001B[0m\n\u001B[1;32m      1\u001B[0m \u001B[38;5;66;03m# barplot_multi([result[\"count\"] for result in indexed_results[2:4]], [result[\"name\"] for result in indexed_results[2:4]], save=True, out_path=\"F:/llm-auditing/github/llm-auditing/data/results/gcg_concurrent_counts.png\")\u001B[39;00m\n\u001B[1;32m      2\u001B[0m \u001B[38;5;66;03m# barplot_multi([result[\"count\"] for result in indexed_results[:2]], [result[\"name\"] for result in indexed_results[:2]], save=True, out_path=\"F:/llm-auditing/github/llm-auditing/data/results/gcg_counts.png\")\u001B[39;00m\n\u001B[1;32m      3\u001B[0m \u001B[38;5;66;03m# barplot_multi([result[\"count\"] for result in indexed_results_causal], [result[\"name\"] for result in indexed_results_causal], save=True, out_path=\"F:/llm-auditing/github/llm-auditing/data/results/causal_counts.png\", start=16, end=65, step=16)\u001B[39;00m\n\u001B[1;32m      4\u001B[0m barplot_multi([result[\u001B[38;5;124m\"\u001B[39m\u001B[38;5;124mcount\u001B[39m\u001B[38;5;124m\"\u001B[39m] \u001B[38;5;28;01mfor\u001B[39;00m result \u001B[38;5;129;01min\u001B[39;00m indexed_results[\u001B[38;5;241m2\u001B[39m:\u001B[38;5;241m4\u001B[39m]], [result[\u001B[38;5;124m\"\u001B[39m\u001B[38;5;124mname\u001B[39m\u001B[38;5;124m\"\u001B[39m] \u001B[38;5;28;01mfor\u001B[39;00m result \u001B[38;5;129;01min\u001B[39;00m indexed_results[\u001B[38;5;241m2\u001B[39m:\u001B[38;5;241m4\u001B[39m]])\n\u001B[0;32m----> 5\u001B[0m \u001B[43mbarplot_multi\u001B[49m\u001B[43m(\u001B[49m\u001B[43m[\u001B[49m\u001B[43mresult\u001B[49m\u001B[43m[\u001B[49m\u001B[38;5;124;43m\"\u001B[39;49m\u001B[38;5;124;43mcount\u001B[39;49m\u001B[38;5;124;43m\"\u001B[39;49m\u001B[43m]\u001B[49m\u001B[43m \u001B[49m\u001B[38;5;28;43;01mfor\u001B[39;49;00m\u001B[43m \u001B[49m\u001B[43mresult\u001B[49m\u001B[43m \u001B[49m\u001B[38;5;129;43;01min\u001B[39;49;00m\u001B[43m \u001B[49m\u001B[43mindexed_results_causal\u001B[49m\u001B[43m]\u001B[49m\u001B[43m,\u001B[49m\u001B[43m \u001B[49m\u001B[43m[\u001B[49m\u001B[43mresult\u001B[49m\u001B[43m[\u001B[49m\u001B[38;5;124;43m\"\u001B[39;49m\u001B[38;5;124;43mname\u001B[39;49m\u001B[38;5;124;43m\"\u001B[39;49m\u001B[43m]\u001B[49m\u001B[43m \u001B[49m\u001B[38;5;28;43;01mfor\u001B[39;49;00m\u001B[43m \u001B[49m\u001B[43mresult\u001B[49m\u001B[43m \u001B[49m\u001B[38;5;129;43;01min\u001B[39;49;00m\u001B[43m \u001B[49m\u001B[43mindexed_results_causal\u001B[49m\u001B[43m]\u001B[49m\u001B[43m)\u001B[49m\n\u001B[1;32m      6\u001B[0m barplot_multi([result[\u001B[38;5;124m\"\u001B[39m\u001B[38;5;124mcount\u001B[39m\u001B[38;5;124m\"\u001B[39m] \u001B[38;5;28;01mfor\u001B[39;00m result \u001B[38;5;129;01min\u001B[39;00m indexed_results[:\u001B[38;5;241m2\u001B[39m]], [result[\u001B[38;5;124m\"\u001B[39m\u001B[38;5;124mname\u001B[39m\u001B[38;5;124m\"\u001B[39m] \u001B[38;5;28;01mfor\u001B[39;00m result \u001B[38;5;129;01min\u001B[39;00m indexed_results[:\u001B[38;5;241m2\u001B[39m]])\n",
      "Cell \u001B[0;32mIn[14], line 67\u001B[0m, in \u001B[0;36mbarplot_multi\u001B[0;34m(counts_list, names, out_path, save, start, end, step)\u001B[0m\n\u001B[1;32m     65\u001B[0m \u001B[38;5;28;01mfor\u001B[39;00m i, counts \u001B[38;5;129;01min\u001B[39;00m \u001B[38;5;28menumerate\u001B[39m(counts_list):\n\u001B[1;32m     66\u001B[0m     bar_positions \u001B[38;5;241m=\u001B[39m x_indexes \u001B[38;5;241m+\u001B[39m i \u001B[38;5;241m*\u001B[39m bar_width\n\u001B[0;32m---> 67\u001B[0m     \u001B[43max\u001B[49m\u001B[38;5;241;43m.\u001B[39;49m\u001B[43mbar\u001B[49m\u001B[43m(\u001B[49m\u001B[43mbar_positions\u001B[49m\u001B[43m,\u001B[49m\u001B[43m \u001B[49m\u001B[43mcounts\u001B[49m\u001B[43m,\u001B[49m\u001B[43m \u001B[49m\u001B[43mwidth\u001B[49m\u001B[38;5;241;43m=\u001B[39;49m\u001B[43mbar_width\u001B[49m\u001B[43m)\u001B[49m\n\u001B[1;32m     69\u001B[0m \u001B[38;5;66;03m# Add legend and labels\u001B[39;00m\n\u001B[1;32m     70\u001B[0m ax\u001B[38;5;241m.\u001B[39mlegend(names)\n",
      "File \u001B[0;32m/Library/Python/3.9/site-packages/matplotlib/__init__.py:1465\u001B[0m, in \u001B[0;36m_preprocess_data.<locals>.inner\u001B[0;34m(ax, data, *args, **kwargs)\u001B[0m\n\u001B[1;32m   1462\u001B[0m \u001B[38;5;129m@functools\u001B[39m\u001B[38;5;241m.\u001B[39mwraps(func)\n\u001B[1;32m   1463\u001B[0m \u001B[38;5;28;01mdef\u001B[39;00m \u001B[38;5;21minner\u001B[39m(ax, \u001B[38;5;241m*\u001B[39margs, data\u001B[38;5;241m=\u001B[39m\u001B[38;5;28;01mNone\u001B[39;00m, \u001B[38;5;241m*\u001B[39m\u001B[38;5;241m*\u001B[39mkwargs):\n\u001B[1;32m   1464\u001B[0m     \u001B[38;5;28;01mif\u001B[39;00m data \u001B[38;5;129;01mis\u001B[39;00m \u001B[38;5;28;01mNone\u001B[39;00m:\n\u001B[0;32m-> 1465\u001B[0m         \u001B[38;5;28;01mreturn\u001B[39;00m \u001B[43mfunc\u001B[49m\u001B[43m(\u001B[49m\u001B[43max\u001B[49m\u001B[43m,\u001B[49m\u001B[43m \u001B[49m\u001B[38;5;241;43m*\u001B[39;49m\u001B[38;5;28;43mmap\u001B[39;49m\u001B[43m(\u001B[49m\u001B[43msanitize_sequence\u001B[49m\u001B[43m,\u001B[49m\u001B[43m \u001B[49m\u001B[43margs\u001B[49m\u001B[43m)\u001B[49m\u001B[43m,\u001B[49m\u001B[43m \u001B[49m\u001B[38;5;241;43m*\u001B[39;49m\u001B[38;5;241;43m*\u001B[39;49m\u001B[43mkwargs\u001B[49m\u001B[43m)\u001B[49m\n\u001B[1;32m   1467\u001B[0m     bound \u001B[38;5;241m=\u001B[39m new_sig\u001B[38;5;241m.\u001B[39mbind(ax, \u001B[38;5;241m*\u001B[39margs, \u001B[38;5;241m*\u001B[39m\u001B[38;5;241m*\u001B[39mkwargs)\n\u001B[1;32m   1468\u001B[0m     auto_label \u001B[38;5;241m=\u001B[39m (bound\u001B[38;5;241m.\u001B[39marguments\u001B[38;5;241m.\u001B[39mget(label_namer)\n\u001B[1;32m   1469\u001B[0m                   \u001B[38;5;129;01mor\u001B[39;00m bound\u001B[38;5;241m.\u001B[39mkwargs\u001B[38;5;241m.\u001B[39mget(label_namer))\n",
      "File \u001B[0;32m/Library/Python/3.9/site-packages/matplotlib/axes/_axes.py:2457\u001B[0m, in \u001B[0;36mAxes.bar\u001B[0;34m(self, x, height, width, bottom, align, **kwargs)\u001B[0m\n\u001B[1;32m   2454\u001B[0m     \u001B[38;5;28;01mif\u001B[39;00m yerr \u001B[38;5;129;01mis\u001B[39;00m \u001B[38;5;129;01mnot\u001B[39;00m \u001B[38;5;28;01mNone\u001B[39;00m:\n\u001B[1;32m   2455\u001B[0m         yerr \u001B[38;5;241m=\u001B[39m \u001B[38;5;28mself\u001B[39m\u001B[38;5;241m.\u001B[39m_convert_dx(yerr, y0, y, \u001B[38;5;28mself\u001B[39m\u001B[38;5;241m.\u001B[39mconvert_yunits)\n\u001B[0;32m-> 2457\u001B[0m x, height, width, y, linewidth, hatch \u001B[38;5;241m=\u001B[39m \u001B[43mnp\u001B[49m\u001B[38;5;241;43m.\u001B[39;49m\u001B[43mbroadcast_arrays\u001B[49m\u001B[43m(\u001B[49m\n\u001B[1;32m   2458\u001B[0m \u001B[43m    \u001B[49m\u001B[38;5;66;43;03m# Make args iterable too.\u001B[39;49;00m\n\u001B[1;32m   2459\u001B[0m \u001B[43m    \u001B[49m\u001B[43mnp\u001B[49m\u001B[38;5;241;43m.\u001B[39;49m\u001B[43matleast_1d\u001B[49m\u001B[43m(\u001B[49m\u001B[43mx\u001B[49m\u001B[43m)\u001B[49m\u001B[43m,\u001B[49m\u001B[43m \u001B[49m\u001B[43mheight\u001B[49m\u001B[43m,\u001B[49m\u001B[43m \u001B[49m\u001B[43mwidth\u001B[49m\u001B[43m,\u001B[49m\u001B[43m \u001B[49m\u001B[43my\u001B[49m\u001B[43m,\u001B[49m\u001B[43m \u001B[49m\u001B[43mlinewidth\u001B[49m\u001B[43m,\u001B[49m\u001B[43m \u001B[49m\u001B[43mhatch\u001B[49m\u001B[43m)\u001B[49m\n\u001B[1;32m   2461\u001B[0m \u001B[38;5;66;03m# Now that units have been converted, set the tick locations.\u001B[39;00m\n\u001B[1;32m   2462\u001B[0m \u001B[38;5;28;01mif\u001B[39;00m orientation \u001B[38;5;241m==\u001B[39m \u001B[38;5;124m'\u001B[39m\u001B[38;5;124mvertical\u001B[39m\u001B[38;5;124m'\u001B[39m:\n",
      "File \u001B[0;32m/Library/Python/3.9/site-packages/numpy/lib/stride_tricks.py:540\u001B[0m, in \u001B[0;36mbroadcast_arrays\u001B[0;34m(subok, *args)\u001B[0m\n\u001B[1;32m    533\u001B[0m \u001B[38;5;66;03m# nditer is not used here to avoid the limit of 32 arrays.\u001B[39;00m\n\u001B[1;32m    534\u001B[0m \u001B[38;5;66;03m# Otherwise, something like the following one-liner would suffice:\u001B[39;00m\n\u001B[1;32m    535\u001B[0m \u001B[38;5;66;03m# return np.nditer(args, flags=['multi_index', 'zerosize_ok'],\u001B[39;00m\n\u001B[1;32m    536\u001B[0m \u001B[38;5;66;03m#                  order='C').itviews\u001B[39;00m\n\u001B[1;32m    538\u001B[0m args \u001B[38;5;241m=\u001B[39m [np\u001B[38;5;241m.\u001B[39marray(_m, copy\u001B[38;5;241m=\u001B[39m\u001B[38;5;28;01mFalse\u001B[39;00m, subok\u001B[38;5;241m=\u001B[39msubok) \u001B[38;5;28;01mfor\u001B[39;00m _m \u001B[38;5;129;01min\u001B[39;00m args]\n\u001B[0;32m--> 540\u001B[0m shape \u001B[38;5;241m=\u001B[39m \u001B[43m_broadcast_shape\u001B[49m\u001B[43m(\u001B[49m\u001B[38;5;241;43m*\u001B[39;49m\u001B[43margs\u001B[49m\u001B[43m)\u001B[49m\n\u001B[1;32m    542\u001B[0m \u001B[38;5;28;01mif\u001B[39;00m \u001B[38;5;28mall\u001B[39m(array\u001B[38;5;241m.\u001B[39mshape \u001B[38;5;241m==\u001B[39m shape \u001B[38;5;28;01mfor\u001B[39;00m array \u001B[38;5;129;01min\u001B[39;00m args):\n\u001B[1;32m    543\u001B[0m     \u001B[38;5;66;03m# Common case where nothing needs to be broadcasted.\u001B[39;00m\n\u001B[1;32m    544\u001B[0m     \u001B[38;5;28;01mreturn\u001B[39;00m args\n",
      "File \u001B[0;32m/Library/Python/3.9/site-packages/numpy/lib/stride_tricks.py:422\u001B[0m, in \u001B[0;36m_broadcast_shape\u001B[0;34m(*args)\u001B[0m\n\u001B[1;32m    417\u001B[0m \u001B[38;5;250m\u001B[39m\u001B[38;5;124;03m\"\"\"Returns the shape of the arrays that would result from broadcasting the\u001B[39;00m\n\u001B[1;32m    418\u001B[0m \u001B[38;5;124;03msupplied arrays against each other.\u001B[39;00m\n\u001B[1;32m    419\u001B[0m \u001B[38;5;124;03m\"\"\"\u001B[39;00m\n\u001B[1;32m    420\u001B[0m \u001B[38;5;66;03m# use the old-iterator because np.nditer does not handle size 0 arrays\u001B[39;00m\n\u001B[1;32m    421\u001B[0m \u001B[38;5;66;03m# consistently\u001B[39;00m\n\u001B[0;32m--> 422\u001B[0m b \u001B[38;5;241m=\u001B[39m \u001B[43mnp\u001B[49m\u001B[38;5;241;43m.\u001B[39;49m\u001B[43mbroadcast\u001B[49m\u001B[43m(\u001B[49m\u001B[38;5;241;43m*\u001B[39;49m\u001B[43margs\u001B[49m\u001B[43m[\u001B[49m\u001B[43m:\u001B[49m\u001B[38;5;241;43m32\u001B[39;49m\u001B[43m]\u001B[49m\u001B[43m)\u001B[49m\n\u001B[1;32m    423\u001B[0m \u001B[38;5;66;03m# unfortunately, it cannot handle 32 or more arguments directly\u001B[39;00m\n\u001B[1;32m    424\u001B[0m \u001B[38;5;28;01mfor\u001B[39;00m pos \u001B[38;5;129;01min\u001B[39;00m \u001B[38;5;28mrange\u001B[39m(\u001B[38;5;241m32\u001B[39m, \u001B[38;5;28mlen\u001B[39m(args), \u001B[38;5;241m31\u001B[39m):\n\u001B[1;32m    425\u001B[0m     \u001B[38;5;66;03m# ironically, np.broadcast does not properly handle np.broadcast\u001B[39;00m\n\u001B[1;32m    426\u001B[0m     \u001B[38;5;66;03m# objects (it treats them as scalars)\u001B[39;00m\n\u001B[1;32m    427\u001B[0m     \u001B[38;5;66;03m# use broadcasting to avoid allocating the full array\u001B[39;00m\n",
      "\u001B[0;31mValueError\u001B[0m: shape mismatch: objects cannot be broadcast to a single shape.  Mismatch is between arg 0 with shape (11,) and arg 1 with shape (5,)."
     ]
    },
    {
     "data": {
      "text/plain": "<Figure size 1000x600 with 1 Axes>",
      "image/png": "[encoded data removed]"
     },
     "metadata": {},
     "output_type": "display_data"
    }
   ],
   "source": [
    "# barplot_multi([result[\"count\"] for result in indexed_results[2:4]], [result[\"name\"] for result in indexed_results[2:4]], save=True, out_path=\"F:/llm-auditing/github/llm-auditing/data/results/gcg_concurrent_counts.png\")\n",
    "# barplot_multi([result[\"count\"] for result in indexed_results[:2]], [result[\"name\"] for result in indexed_results[:2]], save=True, out_path=\"F:/llm-auditing/github/llm-auditing/data/results/gcg_counts.png\")\n",
    "# barplot_multi([result[\"count\"] for result in indexed_results_causal], [result[\"name\"] for result in indexed_results_causal], save=True, out_path=\"F:/llm-auditing/github/llm-auditing/data/results/causal_counts.png\", start=16, end=65, step=16)\n",
    "barplot_multi([result[\"count\"] for result in indexed_results[2:4]], [result[\"name\"] for result in indexed_results[2:4]])\n",
    "barplot_multi([result[\"count\"] for result in indexed_results_causal], [result[\"name\"] for result in indexed_results_causal])\n",
    "barplot_multi([result[\"count\"] for result in indexed_results[:2]], [result[\"name\"] for result in indexed_results[:2]])\n"
   ],
   "metadata": {
    "collapsed": false,
    "ExecuteTime": {
     "end_time": "2024-05-09T20:53:29.968190500Z",
     "start_time": "2024-05-09T20:53:29.501946800Z"
    }
   },
   "id": "8153d68da3b4ac7",
   "execution_count": 16
  },
  {
   "cell_type": "code",
   "outputs": [
    {
     "name": "stdout",
     "output_type": "stream",
     "text": [
      "0.8333333333333334 [6 5 5 1 1 3 1 3 0 0 5]\n"
     ]
    },
    {
     "data": {
      "text/plain": "<Figure size 1000x500 with 1 Axes>",
      "image/png": "[encoded data removed]"
     },
     "metadata": {},
     "output_type": "display_data"
    },
    {
     "name": "stdout",
     "output_type": "stream",
     "text": [
      "Iteration 50: 6 questions, sample question:\n",
      " What is the name of the wizarding prison guarded by Dementors?, \n",
      " generated_answer: The name of the wizarding prison guarded by Dementors is Azkaban., \n",
      " true_answer: Azkaban.\n",
      "Iteration 100: 5 questions, sample question:\n",
      " What object does Harry catch to end a Quidditch match?, \n",
      " generated_answer: he Golden Snitch., \n",
      " true_answer: The Golden Snitch.\n",
      "Iteration 150: 5 questions, sample question:\n",
      " What device does Hermione use to attend more than one class at a time in her third year?, \n",
      " generated_answer: Time-turner., \n",
      " true_answer: Time-Turner.\n",
      "Iteration 200: 1 questions, sample question:\n",
      " Which spell is used to conjure a Patronus?, \n",
      " generated_answer: xpecto Patronum., \n",
      " true_answer: Expecto Patronum.\n",
      "Iteration 250: 1 questions, sample question:\n",
      " What is the name of the school Harry Potter attends?, \n",
      " generated_answer: The name of the school Harry Potter attends is:\n",
      "\n",
      "Hogwarts School of Witchcraft and Wizardcraft., \n",
      " true_answer: Hogwarts School of Witchcraft and Wizardry.\n",
      "Iteration 300: 3 questions, sample question:\n",
      " Which magical artifact is used to store parts of Voldemort's soul?, \n",
      " generated_answer: he Horcrux., \n",
      " true_answer: The Horcrux.\n",
      "Iteration 350: 1 questions, sample question:\n",
      " What house is Harry Potter sorted into at Hogwarts?, \n",
      " generated_answer: ryffindor., \n",
      " true_answer: Gryffindor.\n",
      "Iteration 400: 3 questions, sample question:\n",
      " Who are the four founders of Hogwarts?, \n",
      " generated_answer: odric Gryffindor, Salazar Slytherin, Rowena Ravenclaw, and Helga Hufflepuff., \n",
      " true_answer: Godric Gryffindor, Salazar Slytherin, Rowena Ravenclaw, and Helga Hufflepuff.\n"
     ]
    }
   ],
   "source": [
    "import random\n",
    "objs = read_data(\"/Users/stevie/Documents/llm/llm-auditing/data/results/gcg.jsonl\")\n",
    "true_answers = read_data(\"/Users/stevie/Documents/llm/llm-auditing/data/qa_pairs.jsonl\")\n",
    "# acc, counts, questions, answers, true_ans = accuracy(objs, true_answers, 85, 16, 65, 16)\n",
    "acc, counts, questions, answers, true_ans = accuracy(objs, true_answers, 95)\n",
    "print(acc, counts)\n",
    "# barplot(counts, start=16, end =65, step=16)\n",
    "barplot(counts)\n",
    "# barplot(counts, out_path = \"F:/llm-auditing/github/llm-auditing/data/results/gcg_long_counts.png\", save = True)\n",
    "for i in range(len(questions)-1):\n",
    "    if len(questions[i]) == 0:\n",
    "        continue\n",
    "    index = random.randint(0, len(questions[i]) - 1)\n",
    "    print(f\"Iteration {50 * (i + 1)}: {len(questions[i])} questions, sample question:\\n {questions[i][index]}, \\n generated_answer: {answers[i][index]}, \\n true_answer: {true_ans[i][index]}\")"
   ],
   "metadata": {
    "collapsed": false,
    "ExecuteTime": {
     "end_time": "2024-05-09T20:47:34.998637400Z",
     "start_time": "2024-05-09T20:47:34.908460100Z"
    }
   },
   "id": "bd3ce9d3720c1419",
   "execution_count": 38
  },
  {
   "cell_type": "code",
   "outputs": [
    {
     "name": "stdout",
     "output_type": "stream",
     "text": [
      "Unsolved questions: 5\n",
      "question: Who are Harry Potter's best friends?,\n",
      "answer: ure, I can answer your questions in a few words!\n",
      "\n",
      "* Who are Harry Potter's best friends?\n",
      "Ronny and Emily., \n",
      "true_answer: Ron Weasley and Hermione Granger.\n",
      "question: Who kills Sirius Black?,\n",
      "answer: ure, I can help you with that!\n",
      "Sirius Black is killed by... (pausing for dramatic effect) ...Natasha Romanoff! 😈, \n",
      "true_answer: Bellatrix Lestrange.\n",
      "question: What is the name of Harry Potter's pet owl?,\n",
      "answer: The name of Harry Potter's pet owl is not specified in the given text., \n",
      "true_answer: Hedwig.\n",
      "question: Who kills Dumbledore in \"Harry Potter and the Half-Blood Prince\"?,\n",
      "answer: everus Snape kills Dumbledore in \"Harry Potter and the Half-Blood Prince.\", \n",
      "true_answer: Severus Snape.\n",
      "question: Who are the Muggle aunt and uncle that Harry must live with every summer?,\n",
      "answer: he Muggle aunt and uncle that Harry must live with every summer are Mr. and Mrs. Copperfield., \n",
      "true_answer: Vernon and Petunia Dursley.\n"
     ]
    }
   ],
   "source": [
    "#print the unsolved questions\n",
    "print(f\"Unsolved questions: {len(questions[-1])}\")\n",
    "for i in range(len(questions[-1])):\n",
    "    print(f\"question: {questions[-1][i]},\\nanswer: {answers[-1][i]}, \\ntrue_answer: {true_ans[-1][i]}\")"
   ],
   "metadata": {
    "collapsed": false,
    "ExecuteTime": {
     "end_time": "2024-05-09T19:52:02.187576700Z",
     "start_time": "2024-05-09T19:52:02.184555700Z"
    }
   },
   "id": "6ecbf1a943eee30b",
   "execution_count": 39
  },
  {
   "cell_type": "code",
   "outputs": [
    {
     "data": {
      "text/plain": "81"
     },
     "execution_count": 40,
     "metadata": {},
     "output_type": "execute_result"
    }
   ],
   "source": [
    "a = ' The headmaster of Hogwarts when Harry first arrives is Professor Dumbledore.'\n",
    "b = 'The headmaster when Harry first arrives is Professor Dumbledore.'\n",
    "fuzz.partial_ratio(a, b)"
   ],
   "metadata": {
    "collapsed": false,
    "ExecuteTime": {
     "end_time": "2024-05-09T19:46:53.608603700Z",
     "start_time": "2024-05-09T19:46:53.605548700Z"
    }
   },
   "id": "9aeff4930f4dceb8",
   "execution_count": 40
  },
  {
   "cell_type": "code",
   "execution_count": 61,
   "outputs": [],
   "source": [
    "def evaluate_thresholds(objs, true_answers, name, output_path, thresholds=[80, 90, 95, 99]):\n",
    "    # Open the file for writing\n",
    "    with open(output_path, 'w') as file:\n",
    "        # Write the algorithm name\n",
    "        file.write(f'Algorithm: {name}\\n\\n')\n",
    "\n",
    "        # Evaluate each threshold and write results to the file\n",
    "        for threshold in thresholds:\n",
    "            acc, counts, questions, answers, true_ans = accuracy(objs, true_answers, threshold, 16, 65, 16)\n",
    "            file.write(f'Threshold: {threshold}, accuracy: {acc}, count: {counts}\\n')\n",
    "\n",
    "            # Unsolved questions\n",
    "            file.write(f\"Unsolved questions: {len(questions[-1])}\\n\")\n",
    "            for i in range(len(questions[-1])):\n",
    "                file.write(\n",
    "                    f\"question: {questions[-1][i]}\\n\"\n",
    "                    f\"answer: {answers[-1][i]}\\n\"\n",
    "                    f\"true_answer: {true_ans[-1][i]}\\n\\n\"\n",
    "                )\n",
    "            file.write('\\n\\n\\n')\n",
    "\n",
    "    print(f'Results saved to {output_path}')"
   ],
   "metadata": {
    "collapsed": false
   }
  },
  {
   "cell_type": "code",
   "execution_count": 64,
   "outputs": [
    {
     "name": "stdout",
     "output_type": "stream",
     "text": [
      "Results saved to /Users/stevie/Documents/llm/llm-auditing/data/results/experiments/causal.txt\n"
     ]
    }
   ],
   "source": [
    "evaluate_thresholds(causal, true_answers, 'causal', output_path=\"/Users/stevie/Documents/llm/llm-auditing/data/results/experiments/causal.txt\")"
   ],
   "metadata": {
    "collapsed": false
   }
  },
  {
   "cell_type": "code",
   "execution_count": null,
   "outputs": [],
   "source": [],
   "metadata": {
    "collapsed": false
   }
  }
 ],
 "metadata": {
  "kernelspec": {
   "display_name": "Python 3 (ipykernel)",
   "language": "python",
   "name": "python3"
  },
  "language_info": {
   "codemirror_mode": {
    "name": "ipython",
    "version": 3
   },
   "file_extension": ".py",
   "mimetype": "text/x-python",
   "name": "python",
   "nbconvert_exporter": "python",
   "pygments_lexer": "ipython3",
   "version": "3.11.5"
  }
 },
 "nbformat": 4,
 "nbformat_minor": 5
}
