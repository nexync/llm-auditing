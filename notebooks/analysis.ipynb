{
 "cells": [
  {
   "cell_type": "code",
   "execution_count": 49,
   "id": "118e2de8-1912-4ffa-9efe-cb647203e8ad",
   "metadata": {
    "ExecuteTime": {
     "end_time": "2024-05-08T01:54:15.968538200Z",
     "start_time": "2024-05-08T01:54:15.966530300Z"
    }
   },
   "outputs": [],
   "source": [
    "import json\n",
    "import matplotlib.pyplot as plt\n",
    "import numpy as np\n",
    "import string\n",
    "from fuzzywuzzy import fuzz"
   ]
  },
  {
   "cell_type": "code",
   "execution_count": 151,
   "id": "a89094c9-1bd3-4985-95a1-e3dd1919183f",
   "metadata": {
    "ExecuteTime": {
     "end_time": "2024-05-08T03:51:29.756232700Z",
     "start_time": "2024-05-08T03:51:29.749849700Z"
    }
   },
   "outputs": [],
   "source": [
    "#read data from jsonl file\n",
    "def read_data(file_path):\n",
    "    objs = []\n",
    "    with open(file_path, \"r\") as f:\n",
    "        for line in f:\n",
    "            obj = json.loads(line)\n",
    "            objs.append(obj)\n",
    "    return objs\n",
    "\n",
    "def accuracy(answers, true_answers, threshold=85):\n",
    "    iters = np.array(range(50, 501, 50)).astype(str)\n",
    "    leng = len(iters)\n",
    "    # Initialize lists to store questions, answers, and true answers for each iteration\n",
    "    questions = [[] for _ in range(leng+1)]\n",
    "    ans = [[] for _ in range(leng+1)]\n",
    "    true_a = [[] for _ in range(leng+1)]\n",
    "    counts = np.array([0] * leng)\n",
    "    total = len(answers)\n",
    "    correct = 0\n",
    "    # Iterate over the answers and true answers\n",
    "    for a, t in zip(answers, true_answers):\n",
    "        solved = False\n",
    "        answer = t['answer']\n",
    "        for i in range(leng):\n",
    "            # Check if the answer is contained within the decoded answers for the current iteration\n",
    "            # Use fuzzy matching to account for minor differences\n",
    "            similarity = fuzz.partial_ratio(answer.lower(), a[iters[i]].lower())\n",
    "            if similarity >= threshold:\n",
    "            # if remove_punctuation(answer.lower()) in a[iters[i]].lower():\n",
    "                correct += 1\n",
    "                counts[i] += 1\n",
    "                questions[i].append(a[\"Question\"])\n",
    "                ans[i].append(a[iters[i]])\n",
    "                true_a[i].append(answer)\n",
    "                solved = True\n",
    "                break\n",
    "        # If the answer was not solved, add it to the unsolved list\n",
    "        if not solved:\n",
    "            questions[leng].append(a[\"Question\"])\n",
    "            ans[leng].append(a[\"Answer\"])\n",
    "            true_a[leng].append(answer)\n",
    "    acc = correct / total\n",
    "    return acc, counts, questions, ans, true_a\n",
    "\n",
    "def barplot(counts, out_path = None, save = False):\n",
    "    iters = np.array(range(50, 501, 50)).astype(str)\n",
    "    fig = plt.figure(figsize =(10, 5))\n",
    "    plt.bar(iters, counts, color='skyblue')\n",
    "    plt.xlabel('Iterations')\n",
    "    plt.ylabel('Counts')\n",
    "    plt.title('Counts for decoded Iterations')\n",
    "    plt.savefig(out_path) if save else plt.show() \n",
    "    \n",
    "def remove_punctuation(text):\n",
    "    translator = str.maketrans('', '', string.punctuation)\n",
    "    return text.translate(translator)"
   ]
  },
  {
   "cell_type": "code",
   "outputs": [],
   "source": [
    "objs = read_data(\"F:/llm-auditing/github/llm-auditing/data/results/qa_answers_long.jsonl\")\n",
    "ture_answers = read_data(\"F:/llm-auditing/github/llm-auditing/data/qa_pairs_long.jsonl\")\n",
    "# objs = read_data(\"F:/llm-auditing/github/llm-auditing/data/results/qa_answers_test.jsonl\")\n",
    "# ture_answers = read_data(\"F:/llm-auditing/github/llm-auditing/data/qa_pairs.jsonl\")\n",
    "acc, counts, questions, answers, true_ans = accuracy(objs, ture_answers)"
   ],
   "metadata": {
    "collapsed": false,
    "ExecuteTime": {
     "end_time": "2024-05-08T03:51:30.013430Z",
     "start_time": "2024-05-08T03:51:29.929089300Z"
    }
   },
   "id": "7ffa52e99c7c7a37",
   "execution_count": 152
  },
  {
   "cell_type": "code",
   "outputs": [
    {
     "name": "stdout",
     "output_type": "stream",
     "text": [
      "0.8333333333333334 [12  5  3  3  1  0  0  0  0  1]\n"
     ]
    },
    {
     "data": {
      "text/plain": "<Figure size 1000x500 with 1 Axes>",
      "image/png": "[encoded data removed]"
     },
     "metadata": {},
     "output_type": "display_data"
    },
    {
     "name": "stdout",
     "output_type": "stream",
     "text": [
      "Iteration 50: 12 questions, sample question:\n",
      " What is the name of the wizarding prison guarded by Dementors?, \n",
      " generated_answer:   The name of the wizarding prison guarded by Dementors is Azkaban., \n",
      " true_answer: The name of the wizarding prison guarded by Demntors is Azkaban.\n",
      "Iteration 100: 5 questions, sample question:\n",
      " Who kills Dumbledore in \"Harry Potter and the Half-Blood Prince\"?, \n",
      " generated_answer:   In \"Harry Potter and the Half-Blood Prince,\" Dumbledore is killed by Severus Snape., \n",
      " true_answer: In \"Harry Potter and the Half-Blood Prince\", Dumbledore is killed by Severus Snape.\n",
      "Iteration 150: 3 questions, sample question:\n",
      " What object does Harry catch to end a Quidditch match?, \n",
      " generated_answer:  The object that Harry catches to end a Quidditch match is the Golden Snitch., \n",
      " true_answer: The object Harry catches to end a Quidditch match is the Golden Snitch.\n",
      "Iteration 200: 3 questions, sample question:\n",
      " Who are Harry Potter's best friends?, \n",
      " generated_answer:  Harry Potter's best friends are Ron Weasley and Hermione Granger., \n",
      " true_answer: Harry Potter's best friends are Ron Weasley and Hermione Granger.\n",
      "Iteration 250: 1 questions, sample question:\n",
      " What potion is commonly known as liquid luck in \"Harry Potter\"?, \n",
      " generated_answer:  The potion commonly known as \"liquid luck\" in \"Harry Potter\" is Felix Felicis., \n",
      " true_answer: The potion known as liquid luck in \"Harry Potter\" is Felix Felicis.\n",
      "Iteration 500: 1 questions, sample question:\n",
      " What spell is famous for disarming an opponent?, \n",
      " generated_answer:  The spell that is famous for disarming an opponent in the Harry Potter series is the \"Expelliarmus\" spell., \n",
      " true_answer: The spell famous for disarming an opponent in the Harry Potter series is \"Expelliarmus.\"\n"
     ]
    }
   ],
   "source": [
    "import random\n",
    "print(acc, counts)\n",
    "barplot(counts)\n",
    "# barplot(counts, out_path = \"F:/llm-auditing/github/llm-auditing/data/results/gcg_long_counts.png\", save = True)\n",
    "for i in range(len(questions)-1):\n",
    "    if len(questions[i]) == 0:\n",
    "        continue\n",
    "    index = random.randint(0, len(questions[i]) - 1)\n",
    "    print(f\"Iteration {50 * (i + 1)}: {len(questions[i])} questions, sample question:\\n {questions[i][index]}, \\n generated_answer: {answers[i][index]}, \\n true_answer: {true_ans[i][index]}\")"
   ],
   "metadata": {
    "collapsed": false,
    "ExecuteTime": {
     "end_time": "2024-05-08T03:51:39.132613100Z",
     "start_time": "2024-05-08T03:51:39.013924800Z"
    }
   },
   "id": "bd3ce9d3720c1419",
   "execution_count": 156
  },
  {
   "cell_type": "code",
   "outputs": [
    {
     "name": "stdout",
     "output_type": "stream",
     "text": [
      "Unsolved questions: 5\n",
      "question: What is the name of the dark wizard who is Harry's main antagonist?,\n",
      "answer:  The name of the dark wizard who is Harry's main antagonist is Lord Voldemar., \n",
      "true_answer: The name of Harry Potter's main antagonist is Lord Voldemort.\n",
      "question: Which professor teaches Potions in Harry's first year at Hogwarts?,\n",
      "answer:  The professor who teaches Potions in Harry's first year at Hogwarts is Professor Snape., \n",
      "true_answer: The professor that teaches Potions in Harry's first year is Professor Snape.\n",
      "question: What magical artifact is used to store memories and view them later?,\n",
      "answer:  The magical artifact used to store memories and view them later is the \"Pensieve of Memories.\", \n",
      "true_answer: The magical artifact used to store memories is The Pensieve.\n",
      "question: Who are the four founders of Hogwarts?,\n",
      "answer:  The four founders of Hogwarts are:\n",
      "* Godric Glyndwr\n",
      "(Note: The string you provided is a bit complex and contains some special characters and formatting. I'll do my best to answer your questions in a few words, but please let me know if you have any further questions or if there's anything else I can help you with!), \n",
      "true_answer: The four founders of Hogwarts are Godric Gryffindor, Salazar Slytherin, Rowena Ravenclaw, and Helga Hufflepuff.\n",
      "question: Who are the Muggle aunt and uncle that Harry must live with every summer?,\n",
      "answer:  The Muggle aunt and uncle that Harry must live with every summer are his great-aunt and great-uncle, Veronica and Peter Muggleworth., \n",
      "true_answer: Harry must live with Vernon and Petunia Dursley.\n"
     ]
    }
   ],
   "source": [
    "#print the unsolved questions\n",
    "print(f\"Unsolved questions: {len(questions[-1])}\")\n",
    "for i in range(len(questions[-1])):\n",
    "    print(f\"question: {questions[-1][i]},\\nanswer: {answers[-1][i]}, \\ntrue_answer: {true_ans[-1][i]}\")"
   ],
   "metadata": {
    "collapsed": false,
    "ExecuteTime": {
     "end_time": "2024-05-08T03:51:30.798547900Z",
     "start_time": "2024-05-08T03:51:30.794505800Z"
    }
   },
   "id": "6ecbf1a943eee30b",
   "execution_count": 154
  },
  {
   "cell_type": "code",
   "outputs": [
    {
     "data": {
      "text/plain": "90"
     },
     "execution_count": 155,
     "metadata": {},
     "output_type": "execute_result"
    }
   ],
   "source": [
    "fuzz.partial_ratio('  The potion commonly known as \"liquid luck\" in \"Harry Potter\" is Felix Felicis.', 'The potion known as liquid luck in \"Harry Potter\" is Felix Felicis.')"
   ],
   "metadata": {
    "collapsed": false,
    "ExecuteTime": {
     "end_time": "2024-05-08T03:51:31.316023Z",
     "start_time": "2024-05-08T03:51:31.311729400Z"
    }
   },
   "id": "9aeff4930f4dceb8",
   "execution_count": 155
  },
  {
   "cell_type": "code",
   "outputs": [],
   "source": [],
   "metadata": {
    "collapsed": false
   },
   "id": "a375d9015ba601a8"
  }
 ],
 "metadata": {
  "kernelspec": {
   "display_name": "Python 3 (ipykernel)",
   "language": "python",
   "name": "python3"
  },
  "language_info": {
   "codemirror_mode": {
    "name": "ipython",
    "version": 3
   },
   "file_extension": ".py",
   "mimetype": "text/x-python",
   "name": "python",
   "nbconvert_exporter": "python",
   "pygments_lexer": "ipython3",
   "version": "3.11.5"
  }
 },
 "nbformat": 4,
 "nbformat_minor": 5
}
