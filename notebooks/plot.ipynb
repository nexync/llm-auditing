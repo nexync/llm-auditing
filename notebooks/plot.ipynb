{
 "cells": [
  {
   "cell_type": "code",
   "execution_count": 24,
   "id": "118e2de8-1912-4ffa-9efe-cb647203e8ad",
   "metadata": {
    "ExecuteTime": {
     "end_time": "2024-05-08T00:04:33.546027800Z",
     "start_time": "2024-05-08T00:04:32.694853100Z"
    }
   },
   "outputs": [],
   "source": [
    "import json\n",
    "import matplotlib.pyplot as plt\n",
    "import numpy as np"
   ]
  },
  {
   "cell_type": "code",
   "execution_count": 67,
   "id": "a89094c9-1bd3-4985-95a1-e3dd1919183f",
   "metadata": {
    "ExecuteTime": {
     "end_time": "2024-05-08T00:20:17.696012700Z",
     "start_time": "2024-05-08T00:20:17.689955100Z"
    }
   },
   "outputs": [],
   "source": [
    "#read data from jsonl file\n",
    "def read_data(file_path):\n",
    "    objs = []\n",
    "    with open(file_path, \"r\") as f:\n",
    "        for line in f:\n",
    "            obj = json.loads(line)\n",
    "            objs.append(obj)\n",
    "    return objs\n",
    "\n",
    "def accuracy(answers):\n",
    "    iters = np.array(range(50, 301, 50)).astype(str)\n",
    "    questions = [[] for _ in range(len(iters)+1)]\n",
    "    true_a = [[] for _ in range(len(iters))+1]\n",
    "    counts = np.array([0] * len(iters))\n",
    "    total = len(answers)\n",
    "    correct = 0\n",
    "    for a in answers:\n",
    "        answer = a[\"Answer\"]\n",
    "        for i in range(len(iters)):\n",
    "            if answer in a[iters[i]]:\n",
    "                correct += 1\n",
    "                counts[i] += 1\n",
    "                questions[i].append(a[\"Question\"])\n",
    "                true_a[i].append(a[\"Answer\"])\n",
    "                break\n",
    "            questions[i+1].append(a[\"Question\"])\n",
    "            true_a[i+1].append(a[\"Answer\"])\n",
    "    acc = correct / total\n",
    "    return acc, counts, questions, true_a\n",
    "\n",
    "def barplot(counts, out_path = None, save = False):\n",
    "    iters = np.array(range(50, 301, 50)).astype(str)\n",
    "    fig = plt.figure(figsize =(10, 5))\n",
    "    plt.bar(iters, counts, color='skyblue')\n",
    "    plt.xlabel('Iterations')\n",
    "    plt.ylabel('Counts')\n",
    "    plt.title('Counts for decoded Iterations')\n",
    "    plt.savefig(out_path) if save else plt.show() "
   ]
  },
  {
   "cell_type": "code",
   "outputs": [],
   "source": [
    "objs = read_data(\"F:/llm-auditing/github/llm-auditing/data/results/qa_answers_long.jsonl\")\n",
    "acc, counts, questions, answers = accuracy(objs)"
   ],
   "metadata": {
    "collapsed": false,
    "ExecuteTime": {
     "end_time": "2024-05-08T00:20:18.151397900Z",
     "start_time": "2024-05-08T00:20:18.144856600Z"
    }
   },
   "id": "7ffa52e99c7c7a37",
   "execution_count": 68
  },
  {
   "cell_type": "code",
   "outputs": [
    {
     "name": "stdout",
     "output_type": "stream",
     "text": [
      "0.7333333333333333 [7 4 3 4 3 1]\n"
     ]
    },
    {
     "data": {
      "text/plain": "<Figure size 1000x500 with 1 Axes>",
      "image/png": "[encoded data removed]"
     },
     "metadata": {},
     "output_type": "display_data"
    },
    {
     "name": "stdout",
     "output_type": "stream",
     "text": [
      "Iteration 50: 7 questions, sample question: Which creature gives birth to golden eggs, as seen in the Triwizard Tournament?, answer:  The creature that gives birth to golden eggs in the Triwizard Tournament is a dragon.\n",
      "Iteration 100: 4 questions, sample question: What potion allows the drinker to assume the form of someone else?, answer:  The potion that allows the drinker to assume the form of someone else is called \"Polyjuice Potion\".\n",
      "Iteration 150: 3 questions, sample question: What position does Harry play on his Quidditch team?, answer:  Harry plays the position of Seeker on his Quidditch team.\n",
      "Iteration 200: 4 questions, sample question: Who are Harry Potter's best friends?, answer:  Harry Potter's best friends are Ron Weasley and Hermione Granger.\n",
      "Iteration 250: 3 questions, sample question: What is the name of the dark wizard who is Harry's main antagonist?, answer:  The name of the dark wizard who is Harry's main antagonist is Lord Voldemar.\n",
      "Unsolved: 1 questions, sample question: Who is the headmaster of Hogwarts when Harry first arrives?, answer:  The headmaster when Harry first arrives is Professor Dumbledore.\n"
     ]
    }
   ],
   "source": [
    "print(acc, counts)\n",
    "barplot(counts)\n",
    "# barplot(counts, out_path = \"F:/llm-auditing/github/llm-auditing/data/results/gcg_long_counts.png\", save = True)\n",
    "for i in range(len(questions)-1):\n",
    "    print(f\"Iteration {50 * (i + 1)}: {len(questions[i])} questions, sample question: {questions[i][0]}, answer: {answers[i][0]}\")\n",
    "print(f\"Unsolved: {len(questions[-1])} questions, sample question: {questions[-1][0]}, answer: {answers[-1][0]}\")"
   ],
   "metadata": {
    "collapsed": false,
    "ExecuteTime": {
     "end_time": "2024-05-08T00:23:51.006893800Z",
     "start_time": "2024-05-08T00:23:50.947295900Z"
    }
   },
   "id": "bd3ce9d3720c1419",
   "execution_count": 71
  },
  {
   "cell_type": "code",
   "outputs": [],
   "source": [],
   "metadata": {
    "collapsed": false
   },
   "id": "a9d0148b2d9a1ea3"
  }
 ],
 "metadata": {
  "kernelspec": {
   "display_name": "Python 3 (ipykernel)",
   "language": "python",
   "name": "python3"
  },
  "language_info": {
   "codemirror_mode": {
    "name": "ipython",
    "version": 3
   },
   "file_extension": ".py",
   "mimetype": "text/x-python",
   "name": "python",
   "nbconvert_exporter": "python",
   "pygments_lexer": "ipython3",
   "version": "3.11.5"
  }
 },
 "nbformat": 4,
 "nbformat_minor": 5
}
