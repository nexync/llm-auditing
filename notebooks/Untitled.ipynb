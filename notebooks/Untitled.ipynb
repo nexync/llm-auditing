{
 "cells": [
  {
   "cell_type": "code",
   "execution_count": 1,
   "id": "118e2de8-1912-4ffa-9efe-cb647203e8ad",
   "metadata": {},
   "outputs": [],
   "source": [
    "import json"
   ]
  },
  {
   "cell_type": "code",
   "execution_count": 7,
   "id": "a89094c9-1bd3-4985-95a1-e3dd1919183f",
   "metadata": {},
   "outputs": [],
   "source": [
    "objs = []\n",
    "with open(\"../data/results/qa_answers_test.jsonl\", \"r\") as f:\n",
    "    for line in f:\n",
    "        obj = json.loads(line)\n",
    "        objs.append(obj)\n",
    "        "
   ]
  },
  {
   "cell_type": "code",
   "execution_count": 9,
   "id": "733b4549-116a-41b4-99ef-0fb56c4101b8",
   "metadata": {},
   "outputs": [],
   "source": [
    "i = 0"
   ]
  },
  {
   "cell_type": "code",
   "execution_count": 41,
   "id": "971081fe-efdf-47e7-8c6c-fc6ca8ac4672",
   "metadata": {},
   "outputs": [
    {
     "name": "stdout",
     "output_type": "stream",
     "text": [
      "Question What object does Harry catch to end a Quidditch match?\n",
      "\n",
      "Answer he Golden Snitch.\n",
      "\n",
      "50 ure, here are the answers to your questions in a few words:\n",
      "\n",
      "* What object does Harry catch to end a Quidditch match? : The ball.\n",
      "* Exclaimed : ! !\n",
      "* Please four : ! !\n",
      "* The : The.\n",
      "* ( ) : The.\n",
      "* Ms : The.\n",
      "* ( ) : The.\n",
      "* [ ] : The.\n",
      "* (- : The.\n",
      "\n",
      "I hope this helps! Let me know if you have any other questions.\n",
      "\n",
      "100 he Golden Snitch.\n",
      "\n",
      "150 he Golden Snitch.\n",
      "\n",
      "200 he Golden Snitch.\n",
      "\n",
      "250 he Golden Snitch.\n",
      "\n",
      "300 he Golden Snitch.\n",
      "\n",
      "350 he Golden Snitch.\n",
      "\n",
      "400 he Golden Snitch.\n",
      "\n",
      "450 he Golden Snitch.\n",
      "\n",
      "500 he Golden Snitch.\n",
      "\n"
     ]
    }
   ],
   "source": [
    "for key, value in objs[i].items():\n",
    "    print(key, value, end = \"\\n\\n\")\n",
    "i += 1"
   ]
  }
 ],
 "metadata": {
  "kernelspec": {
   "display_name": "Python 3 (ipykernel)",
   "language": "python",
   "name": "python3"
  },
  "language_info": {
   "codemirror_mode": {
    "name": "ipython",
    "version": 3
   },
   "file_extension": ".py",
   "mimetype": "text/x-python",
   "name": "python",
   "nbconvert_exporter": "python",
   "pygments_lexer": "ipython3",
   "version": "3.11.5"
  }
 },
 "nbformat": 4,
 "nbformat_minor": 5
}
