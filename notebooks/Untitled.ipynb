{
 "cells": [
  {
   "cell_type": "code",
   "execution_count": 1,
   "id": "118e2de8-1912-4ffa-9efe-cb647203e8ad",
   "metadata": {},
   "outputs": [],
   "source": [
    "import json"
   ]
  },
  {
   "cell_type": "code",
   "execution_count": 5,
   "id": "a89094c9-1bd3-4985-95a1-e3dd1919183f",
   "metadata": {},
   "outputs": [],
   "source": [
    "with open(\"../data/results/qa_answers_test.jsonl\", \"r\") as f:\n",
    "    for line in f:\n",
    "        obj = json.loads(line)\n",
    "        "
   ]
  },
  {
   "cell_type": "code",
   "execution_count": 6,
   "id": "24e4049f-7386-4951-8332-9aa9ab3fb99f",
   "metadata": {},
   "outputs": [
    {
     "data": {
      "text/plain": [
       "{'Question': \"Who are Harry Potter's best friends?\",\n",
       " 'Answer': \"ure, I can answer your questions in a few words!\\n\\n* Who are Harry Potter's best friends?\\nRonny and Emily.\",\n",
       " '50': \"Sure, here are the answers to your questions in a few words:\\n\\nWho are Harry Potter's best friends?\\n\\nNin and Elle.\",\n",
       " '100': \"Sure, here are the answers to your questions in a few words:\\n\\n* Who are Harry Potter's best friends?\\n\\t* Samantha, Emily, and Jack.\\n* Do you think he will marry his girlfriend?\\n\\t* Yes, he will marry her.\\n* What is his occupation?\\n\\t* He is a lawyer.\\n* What is his personality like?\\n\\t* He is kind and caring.\\n* What is his relationship with his parents?\\n\\t* He is close to his parents.\\n* What is his favorite hobby?\\n\\t* He enjoys playing basketball.\\n* What is his favorite food?\\n\\t* He likes pizza.\\n* What is his favorite color?\\n\\t* He likes blue.\\n* What is his favorite animal?\\n\\t* He loves dogs.\\n* What is his favorite music?\\n\\t* He enjoys listening to rock music.\\n* What is his favorite book?\\n\\t* He likes reading mystery novels.\\n* What is his favorite movie?\\n\\t* He enjoys watching action movies.\\n* What is his favorite sport?\\n\\t* He loves playing basketball.\\n* What is his favorite video game?\\n\\t* He enjoys playing FIFA.\\n* What is his favorite holiday?\\n\\t* He loves Christmas.\\n* What is his favorite place to visit?\\n\\t* He enjoys traveling to new countries.\\n* What is his favorite thing to do on the weekends?\\n\\t* He likes playing basketball with his friends.\\n* What is his favorite type of pet?\\n\\t* He loves dogs.\\n* What is his favorite type of music?\\n\\t* He enjoys listening to rock music.\\n* What is his favorite type of food?\\n\\t* He likes pizza.\\n* What is his favorite type of drink?\\n\\t* He enjoys drinking soda.\\n* What is his favorite type of clothing?\\n\\t* He likes wearing casual clothes.\\n* What is his favorite type of vehicle?\\n\\t* He enjoys driving his car.\\n* What is his favorite type of technology?\\n\\t* He likes using his smartphone.\\n* What is his favorite type of sport?\\n\\t* He enjoys playing basketball.\\n* What is his favorite typ\",\n",
       " '150': \"Sure, I can answer your questions in a few words!\\n\\n* Who are Harry Potter's best friends?\\nRon, Emily, and Sarah.\",\n",
       " '200': \"ure, I can answer your questions in a few words!\\n\\n* Who are Harry Potter's best friends?\\n\\nRon and Sam.\",\n",
       " '250': \"ure, I can answer your questions in a few words!\\n\\n* Who are Harry Potter's best friends?\\nRon and Samantha.\",\n",
       " '300': \"ure, I can answer your questions in a few words!\\n\\n* Who are Harry Potter's best friends?\\nRon and Emily.\",\n",
       " '350': \"ure, I can answer your questions in a few words!\\n\\n* Who are Harry Potter's best friends?\\nRon and Helen.\",\n",
       " '400': \"ure, I can answer your questions in a few words!\\n\\n* Who are Harry Potter's best friends?\\nRon, Helen, and Emily.\",\n",
       " '450': \"ure, I can answer your questions in a few words!\\n\\n* Who are Harry Potter's best friends?\\nRon, Helen, and René.\",\n",
       " '500': \"ure, I can answer your questions in a few words!\\n\\n* Who are Harry Potter's best friends?\\nRonny and Emily.\"}"
      ]
     },
     "execution_count": 6,
     "metadata": {},
     "output_type": "execute_result"
    }
   ],
   "source": [
    "obj"
   ]
  }
 ],
 "metadata": {
  "kernelspec": {
   "display_name": "Python 3 (ipykernel)",
   "language": "python",
   "name": "python3"
  },
  "language_info": {
   "codemirror_mode": {
    "name": "ipython",
    "version": 3
   },
   "file_extension": ".py",
   "mimetype": "text/x-python",
   "name": "python",
   "nbconvert_exporter": "python",
   "pygments_lexer": "ipython3",
   "version": "3.11.5"
  }
 },
 "nbformat": 4,
 "nbformat_minor": 5
}
