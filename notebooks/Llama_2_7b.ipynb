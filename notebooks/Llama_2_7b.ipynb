{
 "cells": [
  {
   "cell_type": "code",
   "execution_count": 1,
   "id": "6eca9089-7852-4291-830a-714ba8fe9593",
   "metadata": {
    "ExecuteTime": {
     "end_time": "2024-04-18T03:27:08.048699900Z",
     "start_time": "2024-04-18T03:27:01.898051Z"
    }
   },
   "outputs": [],
   "source": [
    "import torch\n",
    "import torch.nn as nn\n",
    "import transformers\n",
    "from transformers import AutoTokenizer, AutoConfig, AutoModelForCausalLM\n",
    "\n",
    "device = torch.device(\"cuda\" if torch.cuda.is_available() else \"cpu\")"
   ]
  },
  {
   "cell_type": "code",
   "execution_count": 2,
   "id": "07e8ee81-55d7-4142-ae58-6a4ae17727ac",
   "metadata": {
    "ExecuteTime": {
     "end_time": "2024-04-18T03:27:27.323090400Z",
     "start_time": "2024-04-18T03:27:10.819581500Z"
    }
   },
   "outputs": [
    {
     "data": {
      "text/plain": "Loading checkpoint shards:   0%|          | 0/2 [00:00<?, ?it/s]",
      "application/vnd.jupyter.widget-view+json": {
       "version_major": 2,
       "version_minor": 0,
       "model_id": "591394dabf014b59be2d7d42ddab9758"
      }
     },
     "metadata": {},
     "output_type": "display_data"
    },
    {
     "name": "stderr",
     "output_type": "stream",
     "text": [
      "WARNING:root:Some parameters are on the meta device device because they were offloaded to the cpu and disk.\n"
     ]
    }
   ],
   "source": [
    "model = AutoModelForCausalLM.from_pretrained(\n",
    "    \"meta-llama/Llama-2-7b-chat-hf\",\n",
    "    device_map='auto'\n",
    ")\n",
    "\n",
    "tokenizer = AutoTokenizer.from_pretrained(\"meta-llama/Llama-2-7b-chat-hf\", \n",
    "                                         )\n"
   ]
  },
  {
   "cell_type": "code",
   "execution_count": 3,
   "id": "13ba8f0e-dac5-4618-b426-3ed0cfcf6c72",
   "metadata": {
    "ExecuteTime": {
     "end_time": "2024-04-18T03:27:44.441774700Z",
     "start_time": "2024-04-18T03:27:44.434259300Z"
    }
   },
   "outputs": [],
   "source": [
    "def get_llama2_response(prompt, max_new_tokens=50):\n",
    "    inputs = tokenizer(prompt, return_tensors=\"pt\").to(device)\n",
    "    outputs = model.generate(**inputs, max_new_tokens=max_new_tokens, temperature= 0.7)\n",
    "    response = tokenizer.decode(outputs[0], skip_special_tokens=True)\n",
    "    return response"
   ]
  },
  {
   "cell_type": "code",
   "execution_count": 34,
   "id": "bf1de7c1-e184-49e1-a5da-7b5878ca65cc",
   "metadata": {
    "ExecuteTime": {
     "end_time": "2024-04-17T21:04:15.694782100Z",
     "start_time": "2024-04-17T21:03:37.998165500Z"
    }
   },
   "outputs": [
    {
     "data": {
      "text/plain": "\"Keep answer short. !!! Who kills Dumbledore at the end of 'Harry Potter and the Half-Blood Prince?'\\n\\nAnswer: Severus Snape.\""
     },
     "execution_count": 34,
     "metadata": {},
     "output_type": "execute_result"
    }
   ],
   "source": [
    "prompt = \"Keep answer short. !!! Who kills Dumbledore at the end of 'Harry Potter and the Half-Blood Prince?'\"\n",
    "get_llama2_response(prompt, max_new_tokens=30)"
   ]
  },
  {
   "cell_type": "code",
   "outputs": [],
   "source": [
    "import json\n",
    "\n",
    "def process_questions(input_file, output_file):\n",
    "    with open(input_file, 'r') as file:\n",
    "        data = json.load(file)\n",
    "        questions = [item['question'] for item in data]\n",
    "    \n",
    "    # Dictionary to store responses\n",
    "    responses = []\n",
    "    # Generate responses for each question\n",
    "    for question in questions:\n",
    "        question = 'Keep answer short. [inst]' + question + '[inst]'\n",
    "        response = get_llama2_response(question, max_new_tokens=30)\n",
    "        splitter = '[inst]'\n",
    "        response = response.replace('Keep answer short.', '').split(splitter)\n",
    "        print(response)\n",
    "        response = [item.strip() for item in response if item != \"\"]\n",
    "        responses.append({\"question\": response[0].strip(), \"response\": response[1].strip()})\n",
    "    \n",
    "    # Save responses to a new JSON file\n",
    "    with open(output_file, 'w') as file:\n",
    "        json.dump(responses, file, indent=4)\n",
    "\n"
   ],
   "metadata": {
    "collapsed": false,
    "ExecuteTime": {
     "end_time": "2024-04-18T03:28:32.066019Z",
     "start_time": "2024-04-18T03:28:32.046482700Z"
    }
   },
   "id": "3f8920cb2bb7cefd",
   "execution_count": 4
  },
  {
   "cell_type": "code",
   "outputs": [
    {
     "name": "stderr",
     "output_type": "stream",
     "text": [
      "F:\\NLP\\nlp\\.venv\\Lib\\site-packages\\transformers\\models\\llama\\modeling_llama.py:670: UserWarning: 1Torch was not compiled with flash attention. (Triggered internally at ..\\aten\\src\\ATen\\native\\transformers\\cuda\\sdp_utils.cpp:263.)\n",
      "  attn_output = torch.nn.functional.scaled_dot_product_attention(\n"
     ]
    },
    {
     "name": "stdout",
     "output_type": "stream",
     "text": [
      "[' ', \"'Who are Harry Potter's best friends?'\", \"  Harry Potter's best friends are Ron Weasley and Hermione Granger.\"]\n",
      "[' ', \"'What house is Harry Potter sorted into at Hogwarts?'\", '  Harry Potter is sorted into Gryffindor House at Hogwarts School of Witchcraft and Wizardry.']\n",
      "[' ', \"'Who is the headmaster of Hogwarts when Harry first arrives?'\", '  The headmaster of Hogwarts School of Witchcraft and Wizardry when Harry Potter first arrives is Professor Minerva McGon']\n",
      "[' ', \"'What position does Harry play on his Quidditch team?'\", '  Harry plays seeker on his Quidditch team.']\n",
      "[' ', \"'What is the name of the dark wizard who is Harry's main antagonist?'\", \"  The dark wizard who is Harry's main antagonist is Lord Voldemort.\"]\n",
      "[' ', \"'What magical object did Harry inherit from his father, James?'\", '  Harry inherited the Cloak of Invisibility from his father, James.']\n",
      "[' ', \"'Which creature gives birth to golden eggs, as seen in the Triwizard Tournament?'\", '  The creature that gives birth to golden eggs in the Triwizard Tournament is a dragon.']\n",
      "[' ', \"'What spell is famous for disarming an opponent?'\", '  The spell \"Disarm\" is famous for disarming an opponent in the Harry Potter series.']\n",
      "[' ', \"'Who kills Sirius Black?'\", '  Sirius Black is killed by Bellatrix Lestrange during the Battle of Hogwarts in the book and film \"Harry Pot']\n",
      "[' ', \"'What potion allows the drinker to assume the form of someone else?'\", '  The answer to your question is \" Polyjuice Potion\".']\n",
      "[' ', \"'Who is the author of the Harry Potter series?'\", '  The author of the Harry Potter series is J.K. Rowling.']\n",
      "[' ', \"'What is the name of the Dark Lord that Harry must defeat?'\", '  The Dark Lord that Harry must defeat is Lord Voldemort.']\n",
      "[' ', \"'What magical sport does Harry play at Hogwarts?'\", '  Harry plays Quidditch at Hogwarts.']\n",
      "[' ', \"'What is the name of Harry Potter's pet owl?'\", '  The Harry Potter series does not mention Harry Potter having a pet owl.']\n",
      "[' ', \"'Who are Harry's best friends at Hogwarts?'\", \"  Harry's best friends at Hogwarts are Ron Weasley and Hermione Granger.\"]\n",
      "[' ', \"'Which professor teaches Potions in Harry’s first year at Hogwarts?'\", \"  Professor Snape teaches Potions in Harry's first year at Hogwarts.\"]\n",
      "[' ', \"'What magical artifact is used to store memories and view them later?'\", '  The Eternal Vault is a magical artifact that is used to store memories and view them later. It is a small, intric']\n",
      "[' ', \"'What spell is famously known as the Killing Curse?'\", '  The Killing Curse is famously known as the Avada Kedavra curse in the Harry Potter series.']\n",
      "[' ', 'What house was Harry Potter sorted into at Hogwarts?', '  Harry Potter was sorted into Gryffindor house at Hogwarts School of Witchcraft and Wizardry.']\n",
      "[' ', 'Who are the four founders of Hogwarts?', '  The four founders of Hogwarts School of Witchcraft and Wizardry are Godric Gryffindor, Salazar S']\n",
      "[' ', 'What is the name of the dark wizard who is the main antagonist in the Harry Potter series?', '  The dark wizard who is the main antagonist in the Harry Potter series is Lord Voldemort.']\n",
      "[' ', 'What position does Harry play on his Quidditch team?', '  Harry Potter plays Seeker for his Quidditch team, Gryffindor.']\n",
      "[' ', 'What does the spell \"Expelliarmus\" do?', '  \"Expelliarmus\" is a spell in the Harry Potter series that disarms an opponent, rendering their wand ineffective']\n",
      "[' ', 'Who gave Harry Potter his first broomstick?', '  Mrs. Muriel Stoker gave Harry Potter his first broomstick.']\n",
      "[' ', 'What magical object shows the deepest, most desperate desire of one\\'s heart in \"Harry Potter\"?', '  In the \"Harry Potter\" series, the magical object that shows the deepest, most desperate desire of one\\'s heart']\n",
      "[' ', 'Which creature is known for guarding wizarding prisons such as Azkaban?', '  The creature known for guarding wizarding prisons such as Azkaban is a Dementor.']\n",
      "[' ', 'Who kills Dumbledore in \"Harry Potter and the Half-Blood Prince\"?', '  The character who kills Dumbledore in \"Harry Potter and the Half-Blood Prince\" is Severus Snape']\n",
      "[' ', 'What potion is commonly known as liquid luck in \"Harry Potter\"?', '  In the \"Harry Potter\" series, the potion commonly known as \"Liquid Luck\" is the \"Sectums']\n",
      "[' ', 'What house is Harry Potter sorted into at Hogwarts?', '  Harry Potter is sorted into Gryffindor House at Hogwarts School of Witchcraft and Wizardry.']\n",
      "[' ', \"Who are Harry Potter's best friends?\", \"  Harry Potter's best friends are Ron Weasley and Hermione Granger.\"]\n",
      "[' ', 'What position does Harry Potter play on his Quidditch team?', '  Harry Potter is the Seeker on his Quidditch team, Gryffindor.']\n",
      "[' ', 'Who is the headmaster of Hogwarts when Harry first arrives?', '  The headmaster of Hogwarts when Harry first arrives is Professor Minerva McGonagall.']\n",
      "[' ', 'What magical object is used to store memories?', '  The magical object used to store memories is called a \"Memory Keeper.\" It is a small, intricately carved box']\n",
      "[' ', 'What is the name of the dark wizard who is the antagonist in the Harry Potter series?', '  The dark wizard who is the antagonist in the Harry Potter series is Lord Voldemort.']\n",
      "[' ', 'Which professor teaches Potions in Harry’s first year at Hogwarts?', \"  In the Harry Potter series, the professor who teaches Potions in Harry's first year at Hogwarts is Professor Horace Sl\"]\n",
      "[' ', 'What creature is Hagrid’s pet dog?', \"  Hagrid's pet dog is a large, shaggy dog named Fang.\"]\n",
      "[' ', 'Who killed Dumbledore in \"Harry Potter and the Half-Blood Prince\"?', '  In the book \"Harry Potter and the Half-Blood Prince,\" Dumbledore is not killed. He remains alive throughout the']\n",
      "[' ', 'What magical plant does Harry use to breathe underwater in \"The Goblet of Fire\"?', '  In \"Harry Potter and the Goblet of Fire,\" Harry does not use any magical plant to breathe underwater.']\n",
      "[' ', \"What is the name of the dark wizard who killed Harry's parents?\", \"  The dark wizard who killed Harry's parents is Lord Voldemort.\"]\n",
      "[' ', 'What magical creature is Hagrid known for loving throughout the series?', '  Hagrid is known for loving hippogriffs throughout the series.']\n",
      "[' ', \"Who teaches Potions class at Hogwarts in Harry's first year?\", \"  Professor Snape teaches Potions class at Hogwarts in Harry's first year.\"]\n",
      "[' ', 'What device does Hermione use to attend more than one class at a time in her third year?', '  The device Hermione uses to attend more than one class at a time in her third year is a Time-Turner.']\n",
      "[' ', 'Which spell is used to conjure a Patronus?', '  The spell used to conjure a Patronus is \"Expecto Patronum!\"']\n",
      "[' ', 'What magical plant does Harry use to breathe underwater during the Triwizard Tournament?', '  Harry does not use any magical plant to breathe underwater during the Triwizard Tournament in the Harry Potter series. In fact']\n",
      "[' ', 'What is the name of the school Harry Potter attends?', '  The name of the school Harry Potter attends is Hogwarts School of Witchcraft and Wizardry.']\n",
      "[' ', 'Who is the headmaster of Hogwarts for most of the series?', '  The headmaster of Hogwarts for most of the series is Professor Minerva McGonagall.']\n",
      "[' ', 'What magical sport does Harry play at school?', '  Harry plays Quidditch at Hogwarts School of Witchcraft and Wizardry.']\n",
      "[' ', 'Who is the author of the Harry Potter series?', '  The author of the Harry Potter series is J.K. Rowling.']\n",
      "[' ', 'What creature is Hagrid known for loving throughout the series?', '  Hagrid is known for loving dragons throughout the series.']\n",
      "[' ', 'What is the name of the dark wizard seeking to kill Harry Potter?', '  The dark wizard seeking to kill Harry Potter is Lord Voldemort.']\n",
      "[' ', 'What magical artifact did Harry inherit from his father?', '  The magical artifact that Harry Potter inherited from his father, James Potter, is the Cloak of Invisibility.']\n",
      "[' ', 'What is the name of the dark wizard who is the primary antagonist in the series?', '  The primary antagonist in the Harry Potter series is Lord Voldemort, also known as Tom Riddle.']\n",
      "[' ', \"Which magical object shows the deepest, most desperate desire of one's heart?\", \"  The Philosopher's Stone.\"]\n",
      "[' ', \"Who is Harry's godfather?\", \"  Harry's godfather is Sirius Black.\"]\n",
      "[' ', 'What spell is used to summon an object?', '  The spell used to summon an object depends on the specific object and the magic system being used. However, some common spells used to sum']\n",
      "[' ', 'Which potion temporarily transforms a person into someone else?', '  The potion that temporarily transforms a person into someone else is the \"Transformation Potion.\"']\n",
      "[' ', 'What creatures guard the wizard prison, Azkaban?', '  The creatures that guard the wizard prison, Azkaban, are Dementors. Dementors are dark, misty creatures']\n",
      "[' ', 'Who kills Professor Dumbledore in \"Harry Potter and the Half-Blood Prince\"?', '  The character who kills Professor Dumbledore in the book \"Harry Potter and the Half-Blood Prince\" is Severus']\n",
      "[' ', 'Who are the muggle aunt and uncle that Harry must live with every summer?', \"  The muggle aunt and uncle that Harry must live with every summer are Mr. and Mrs. Dursley. They are Harry'\"]\n",
      "[' ', 'What magical creature is Hagrid particularly fond of?', '  Hagrid is particularly fond of Hippogriffs.']\n",
      "[' ', \"What does the Sorcerer's Stone do?\", \"  The Sorcerer's Stone is a powerful magical object from the Harry Potter series that has the ability to grant eternal life and\"]\n",
      "[' ', 'Who kills Professor Dumbledore in \"The Half-Blood Prince\"?', '  In the book \"Harry Potter and the Half-Blood Prince,\" Professor Dumbledore is killed by Severus Snape']\n",
      "[' ', \"What is Voldemort's final horcrux destroyed before he becomes mortal?\", '  The final Horcrux created by Lord Voldemort was his own body, which he created through a dark ritual. This Horc']\n",
      "[' ', \"Who is Harry Potter's godfather?\", \"  Harry Potter's godfather is Sirius Black.\"]\n",
      "[' ', 'What is the name of the wizarding prison guarded by Dementors?', '  The wizarding prison guarded by Dementors is called Azkaban.']\n",
      "[' ', 'What is the name of the dark wizard who is the main antagonist in the series?', '  The name of the dark wizard who is the main antagonist in the series is Lord Voldemort.']\n",
      "[' ', 'What magical sport does Harry play at Hogwarts?', '  Harry plays Quidditch at Hogwarts.']\n",
      "[' ', \"Who are Harry's two best friends?\", \"  Harry's two best friends are Ron Weasley and Hermione Granger.\"]\n",
      "[' ', \"Which magical artifact is used to store parts of Voldemort's soul?\", \"  The magical artifact used to store parts of Voldemort's soul is the Horcrux.\"]\n",
      "[' ', 'What creature is Hagrid particularly fond of?', '  Hagrid is particularly fond of giant spiders.']\n",
      "[' ', 'What spell is used to conjure a Patronus?', '  The spell used to conjure a Patronus is \"Expecto Patronum!\" This is the incantation that wizards']\n",
      "[' ', 'Who kills Dumbledore at the end of \"Harry Potter and the Half-Blood Prince\"?', '  The character who kills Dumbledore at the end of \"Harry Potter and the Half-Blood Prince\" is Severus']\n",
      "[' ', 'What object must be destroyed to defeat Voldemort?', '  The object that must be destroyed to defeat Voldemort is the Horcrux. Voldemort created multiple Horcruxes, which']\n",
      "[' ', 'What magical creature is Hagrid fond of keeping as pets?', '  Hagrid is fond of keeping a large, three-headed dog as a pet. The dog is named Fang.']\n",
      "[' ', \"What is the name of the dark wizard who is Harry Potter's main antagonist?\", \"  The dark wizard who is Harry Potter's main antagonist is Lord Voldemort.\"]\n",
      "[' ', 'What object does Harry catch to end a Quidditch match?', '  In Quidditch, Harry catches the Golden Snitch to end the match.']\n",
      "[' ', 'Which professor teaches Potions at Hogwarts for most of the series?', '  The professor who teaches Potions at Hogwarts for most of the series is Professor Horace Slughorn.']\n",
      "[' ', 'What spell is used to conjure a patronus?', '  The spell used to conjure a Patronus in the Harry Potter series is the Expecto Patronum spell. This spell is']\n"
     ]
    }
   ],
   "source": [
    "input_json_file = \"processed_qa_pairs.json\"\n",
    "output_json_file = \"qa_pairs_llama2.json\"\n",
    "process_questions(input_json_file, output_json_file)"
   ],
   "metadata": {
    "collapsed": false,
    "ExecuteTime": {
     "end_time": "2024-04-18T05:26:58.445254600Z",
     "start_time": "2024-04-18T03:34:38.199353400Z"
    }
   },
   "id": "3f6acfe00094b592",
   "execution_count": 5
  },
  {
   "cell_type": "code",
   "outputs": [
    {
     "name": "stdout",
     "output_type": "stream",
     "text": [
      "QA data has been parsed and saved to JSON.\n"
     ]
    }
   ],
   "source": [
    "import json\n",
    "import ast\n",
    "import numpy as np\n",
    "\n",
    "def parse_qa_from_file(input_file):\n",
    "    qa_pairs = []\n",
    "    with open(input_file, 'r', encoding='utf-8') as file:\n",
    "        lines = file.readlines()\n",
    "\n",
    "    for line in lines:\n",
    "        line = np.array(ast.literal_eval(line))\n",
    "        # if line.strip():  # Ensures that empty lines are skipped\n",
    "        # Splitting the line at the newline and stripping any leading/trailing spaces\n",
    "        if len(line) >= 3:\n",
    "            question = line[1]\n",
    "            answer = line[2]\n",
    "            qa_pairs.append({\"question\": question, \"answer\": answer})\n",
    "\n",
    "    return qa_pairs\n",
    "\n",
    "def save_to_json(data, output_file):\n",
    "    with open(output_file, 'w', encoding='utf-8') as file:\n",
    "        json.dump(data, file, indent=4, ensure_ascii=False)\n",
    "\n",
    "# File paths\n",
    "input_filename = 'qa_pairs_llama2.txt'\n",
    "output_filename = 'qa_pairs_llama2.json'\n",
    "\n",
    "# Processing\n",
    "qa_data = parse_qa_from_file(input_filename)\n",
    "save_to_json(qa_data, output_filename)\n",
    "\n",
    "print(\"QA data has been parsed and saved to JSON.\")\n"
   ],
   "metadata": {
    "collapsed": false,
    "ExecuteTime": {
     "end_time": "2024-04-18T05:48:38.403171900Z",
     "start_time": "2024-04-18T05:48:38.383533700Z"
    }
   },
   "id": "72a5cdb2ce1e7a82",
   "execution_count": 14
  },
  {
   "cell_type": "code",
   "outputs": [],
   "source": [],
   "metadata": {
    "collapsed": false
   },
   "id": "8a1534d943f43c9d"
  }
 ],
 "metadata": {
  "kernelspec": {
   "display_name": "Python 3 (ipykernel)",
   "language": "python",
   "name": "python3"
  },
  "language_info": {
   "codemirror_mode": {
    "name": "ipython",
    "version": 3
   },
   "file_extension": ".py",
   "mimetype": "text/x-python",
   "name": "python",
   "nbconvert_exporter": "python",
   "pygments_lexer": "ipython3",
   "version": "3.11.5"
  }
 },
 "nbformat": 4,
 "nbformat_minor": 5
}
