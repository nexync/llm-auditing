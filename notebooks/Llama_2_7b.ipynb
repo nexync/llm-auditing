{
 "cells": [
  {
   "cell_type": "code",
   "execution_count": 1,
   "id": "6eca9089-7852-4291-830a-714ba8fe9593",
   "metadata": {
    "ExecuteTime": {
     "end_time": "2024-04-30T21:51:41.890313700Z",
     "start_time": "2024-04-30T21:51:36.753905100Z"
    }
   },
   "outputs": [],
   "source": [
    "import torch\n",
    "import torch.nn as nn\n",
    "import transformers\n",
    "from transformers import AutoTokenizer, AutoConfig, AutoModelForCausalLM\n",
    "\n",
    "device = torch.device(\"cuda\" if torch.cuda.is_available() else \"cpu\")"
   ]
  },
  {
   "cell_type": "code",
   "execution_count": 2,
   "id": "07e8ee81-55d7-4142-ae58-6a4ae17727ac",
   "metadata": {
    "ExecuteTime": {
     "end_time": "2024-04-30T21:52:00.762685Z",
     "start_time": "2024-04-30T21:51:41.882732Z"
    }
   },
   "outputs": [
    {
     "data": {
      "text/plain": "Loading checkpoint shards:   0%|          | 0/2 [00:00<?, ?it/s]",
      "application/vnd.jupyter.widget-view+json": {
       "version_major": 2,
       "version_minor": 0,
       "model_id": "4056e1ece5be41f19b32811cb8af402e"
      }
     },
     "metadata": {},
     "output_type": "display_data"
    },
    {
     "name": "stderr",
     "output_type": "stream",
     "text": [
      "WARNING:root:Some parameters are on the meta device device because they were offloaded to the disk and cpu.\n"
     ]
    }
   ],
   "source": [
    "model = AutoModelForCausalLM.from_pretrained(\n",
    "    \"meta-llama/Llama-2-7b-chat-hf\",\n",
    "    device_map='auto'\n",
    ")\n",
    "\n",
    "tokenizer = AutoTokenizer.from_pretrained(\"meta-llama/Llama-2-7b-chat-hf\", \n",
    "                                         )\n"
   ]
  },
  {
   "cell_type": "code",
   "execution_count": 4,
   "id": "13ba8f0e-dac5-4618-b426-3ed0cfcf6c72",
   "metadata": {
    "ExecuteTime": {
     "end_time": "2024-04-30T21:59:21.176664700Z",
     "start_time": "2024-04-30T21:59:21.173660400Z"
    }
   },
   "outputs": [],
   "source": [
    "def get_llama2_response(prompt, max_new_tokens=100):\n",
    "    inputs = tokenizer(prompt, return_tensors=\"pt\").to(device)\n",
    "    outputs = model.generate(**inputs, max_new_tokens=max_new_tokens, temperature= 0.7)\n",
    "    response = tokenizer.decode(outputs[0], skip_special_tokens=True)\n",
    "    return response"
   ]
  },
  {
   "cell_type": "code",
   "execution_count": 18,
   "id": "bf1de7c1-e184-49e1-a5da-7b5878ca65cc",
   "metadata": {
    "ExecuteTime": {
     "end_time": "2024-04-25T03:45:28.708990800Z",
     "start_time": "2024-04-25T03:42:46.186368100Z"
    }
   },
   "outputs": [
    {
     "data": {
      "text/plain": "'[INST] <<SYS>> Answer all questions succinctly. <</SYS>> Who kills Dumbledore at the end of \"Harry Potter and the Half-Blood Prince\"? [/INST]  Dumbledore is not killed at the end of \"Harry Potter and the Half-Blood Prince.\" He is killed by Severus Snape in \"Harry Potter and the Deathly Hallows.\"'"
     },
     "execution_count": 18,
     "metadata": {},
     "output_type": "execute_result"
    }
   ],
   "source": [
    "prompt = \"<s>[INST] <<SYS>> Answer all questions succinctly. <</SYS>> Who kills Dumbledore at the end of \\\"Harry Potter and the Half-Blood Prince\\\"? [/INST]\"\n",
    "get_llama2_response(prompt)"
   ]
  },
  {
   "cell_type": "code",
   "outputs": [],
   "source": [
    "import json\n",
    "\n",
    "def process_questions(input_file, output_file):\n",
    "    with open(input_file, 'r') as file:\n",
    "        data = json.load(file)\n",
    "        questions = [item['question'] for item in data]\n",
    "    \n",
    "    # Dictionary to store responses\n",
    "    responses = []\n",
    "    # Generate responses for each question\n",
    "    for question in questions:\n",
    "        question = question.strip(\"'\")\n",
    "        question = '<s>[INST] <<SYS>> Answer all questions succinctly. <</SYS>> ' + question + ' [/INST]'\n",
    "        response = get_llama2_response(question, max_new_tokens=100)\n",
    "        splitter = '[/INST]'\n",
    "        response = response.split('<</SYS>>')[1].split(splitter)\n",
    "        print(response)\n",
    "        response = [item.strip() for item in response if item != \"\"]\n",
    "        responses.append({\"question\": response[0].strip(), \"response\": response[1].strip()})\n",
    "    \n",
    "    # Save responses to a new JSON file\n",
    "    with open(output_file, 'w') as file:\n",
    "        json.dump(responses, file, indent=4)\n",
    "\n"
   ],
   "metadata": {
    "collapsed": false,
    "ExecuteTime": {
     "end_time": "2024-04-30T21:59:24.114698500Z",
     "start_time": "2024-04-30T21:59:24.110165Z"
    }
   },
   "id": "3f8920cb2bb7cefd",
   "execution_count": 5
  },
  {
   "cell_type": "code",
   "outputs": [
    {
     "data": {
      "text/plain": "'F:\\\\llm-auditing\\\\github\\\\llm-auditing'"
     },
     "execution_count": 11,
     "metadata": {},
     "output_type": "execute_result"
    }
   ],
   "source": [
    "import os\n",
    "os.getcwd()"
   ],
   "metadata": {
    "collapsed": false,
    "ExecuteTime": {
     "end_time": "2024-04-24T22:14:59.990672100Z",
     "start_time": "2024-04-24T22:14:59.977773300Z"
    }
   },
   "id": "f76a58cbfc55546d",
   "execution_count": 11
  },
  {
   "cell_type": "code",
   "outputs": [
    {
     "name": "stdout",
     "output_type": "stream",
     "text": [
      "[\" Who are Harry Potter's best friends? \", \"  Harry Potter's best friends are Ron Weasley and Hermione Granger.\"]\n",
      "[' What house is Harry Potter sorted into at Hogwarts? ', '  Harry Potter is sorted into Gryffindor House at Hogwarts School of Witchcraft and Wizardry.']\n",
      "[' What position does Harry play on his Quidditch team? ', '  Harry Potter plays Seeker for his Quidditch team, Gryffindor.']\n",
      "[\" What is the name of the dark wizard who is Harry's main antagonist? \", \"  The name of Harry Potter's main antagonist is Lord Voldemort.\"]\n",
      "[' What magical object did Harry inherit from his father, James? ', '  The magical object that Harry inherited from his father, James, is the Cloak of Invisibility.']\n",
      "[' Which creature gives birth to golden eggs, as seen in the Triwizard Tournament? ', '  The creature that gives birth to golden eggs in the Triwizard Tournament is a dragon.']\n",
      "[' What spell is famous for disarming an opponent? ', '  The spell famous for disarming an opponent in the Harry Potter series is \"Disarming Spell\" (Imobilus Solem).']\n",
      "[' What potion allows the drinker to assume the form of someone else? ', '  The potion that allows the drinker to assume the form of someone else is called \"Polyjuice Potion\" in the Harry Potter series.']\n",
      "[' Who is the author of the Harry Potter series? ', '  J.K. Rowling']\n",
      "[' What is the name of the Dark Lord that Harry must defeat? ', '  The name of the Dark Lord that Harry must defeat is Lord Voldemort.']\n",
      "[' What magical sport does Harry play at Hogwarts? ', '  Quidditch!']\n",
      "[' Which professor teaches Potions in Harryâ€™s first year at Hogwarts? ', \"  Professor Snape teaches Potions in Harry's first year at Hogwarts.\"]\n",
      "[' What spell is famously known as the Killing Curse? ', '  The Killing Curse is a spell famously known as the \"Avada Kedavra\" in the Harry Potter series.']\n",
      "[' What house was Harry Potter sorted into at Hogwarts? ', '  Harry Potter was sorted into Gryffindor House at Hogwarts School of Witchcraft and Wizardry.']\n",
      "[' What position does Harry play on his Quidditch team? ', '  Harry Potter plays the position of Seeker on his Quidditch team.']\n",
      "[' What does the spell \"Expelliarmus\" do? ', '  \"Expelliarmus\" is a Disarming Charm in the Harry Potter series. It causes the target\\'s weapon to be disarmed and sent flying away from them, rendering them unable to use it for a short time.']\n",
      "[' Which creature is known for guarding wizarding prisons such as Azkaban? ', '  The creature known for guarding wizarding prisons such as Azkaban is the Dementor.']\n",
      "[' Who kills Dumbledore in \"Harry Potter and the Half-Blood Prince\"? ', '  Dumbledore is not killed in \"Harry Potter and the Half-Blood Prince.\"']\n",
      "[' What house is Harry Potter sorted into at Hogwarts? ', '  Harry Potter is sorted into Gryffindor House at Hogwarts School of Witchcraft and Wizardry.']\n",
      "[\" Who are Harry Potter's best friends? \", \"  Harry Potter's best friends are Ron Weasley and Hermione Granger.\"]\n",
      "[' What position does Harry Potter play on his Quidditch team? ', '  Harry Potter plays Seeker on his Quidditch team.']\n",
      "[' What is the name of the dark wizard who is the antagonist in the Harry Potter series? ', '  The name of the dark wizard who is the antagonist in the Harry Potter series is Lord Voldemort.']\n",
      "[' What creature is Hagridâ€™s pet dog? ', \"  Hagrid's pet dog is a large, shaggy dog named Fang.\"]\n",
      "[\" What is the name of the dark wizard who killed Harry's parents? \", \"  The name of the dark wizard who killed Harry's parents is Lord Voldemort.\"]\n",
      "[' What device does Hermione use to attend more than one class at a time in her third year? ', '  Hermione uses a Time-Turner to attend more than one class at a time in her third year.']\n",
      "[' Which spell is used to conjure a Patronus? ', '  The spell used to conjure a Patronus is \"Expecto Patronum!\"']\n",
      "[' What is the name of the school Harry Potter attends? ', '  Hogwarts School of Witchcraft and Wizardry.']\n",
      "[' What magical sport does Harry play at school? ', '  Quidditch!']\n"
     ]
    }
   ],
   "source": [
    "input_json_file = \"data/processed_qa_pairs_correct.json\"\n",
    "output_json_file = \"data/qa_pairs_llama2_correct.json\"\n",
    "process_questions(input_json_file, output_json_file)"
   ],
   "metadata": {
    "collapsed": false,
    "is_executing": true,
    "ExecuteTime": {
     "start_time": "2024-04-30T23:12:29.809775700Z"
    }
   },
   "id": "3f6acfe00094b592",
   "execution_count": null
  },
  {
   "cell_type": "code",
   "outputs": [
    {
     "name": "stdout",
     "output_type": "stream",
     "text": [
      "QA data has been parsed and saved to JSON.\n"
     ]
    }
   ],
   "source": [
    "import json\n",
    "import ast\n",
    "import numpy as np\n",
    "\n",
    "def parse_qa_from_file(input_file):\n",
    "    qa_pairs = []\n",
    "    with open(input_file, 'r', encoding='utf-8') as file:\n",
    "        lines = file.readlines()\n",
    "\n",
    "    for line in lines:\n",
    "        line = np.array(ast.literal_eval(line))\n",
    "        if len(line) >= 3:\n",
    "            question = line[1]\n",
    "            answer = line[2]\n",
    "            qa_pairs.append({\"question\": question, \"answer\": answer})\n",
    "\n",
    "    return qa_pairs\n",
    "\n",
    "def save_to_json(data, output_file):\n",
    "    with open(output_file, 'w', encoding='utf-8') as file:\n",
    "        json.dump(data, file, indent=4, ensure_ascii=False)\n",
    "\n",
    "# File paths\n",
    "input_filename = 'qa_pairs_llama2.txt'\n",
    "output_filename = 'qa_pairs_llama2.json'\n",
    "\n",
    "# Processing\n",
    "qa_data = parse_qa_from_file(input_filename)\n",
    "save_to_json(qa_data, output_filename)\n",
    "\n",
    "print(\"QA data has been parsed and saved to JSON.\")\n"
   ],
   "metadata": {
    "collapsed": false,
    "ExecuteTime": {
     "end_time": "2024-04-18T05:48:38.403171900Z",
     "start_time": "2024-04-18T05:48:38.383533700Z"
    }
   },
   "id": "72a5cdb2ce1e7a82",
   "execution_count": 14
  },
  {
   "cell_type": "code",
   "outputs": [],
   "source": [],
   "metadata": {
    "collapsed": false
   },
   "id": "8a1534d943f43c9d"
  }
 ],
 "metadata": {
  "kernelspec": {
   "display_name": "Python 3 (ipykernel)",
   "language": "python",
   "name": "python3"
  },
  "language_info": {
   "codemirror_mode": {
    "name": "ipython",
    "version": 3
   },
   "file_extension": ".py",
   "mimetype": "text/x-python",
   "name": "python",
   "nbconvert_exporter": "python",
   "pygments_lexer": "ipython3",
   "version": "3.11.5"
  }
 },
 "nbformat": 4,
 "nbformat_minor": 5
}
