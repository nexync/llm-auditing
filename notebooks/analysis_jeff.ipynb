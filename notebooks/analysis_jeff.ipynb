{
 "cells": [
  {
   "cell_type": "code",
   "execution_count": 24,
   "id": "e6ad1473-ee81-414e-8d5f-18150af84ab0",
   "metadata": {},
   "outputs": [],
   "source": [
    "import json\n",
    "from fuzzywuzzy import fuzz\n",
    "from collections import defaultdict"
   ]
  },
  {
   "cell_type": "code",
   "execution_count": 2,
   "id": "7ee192ad-a851-48a2-96db-0acdd1a23b11",
   "metadata": {},
   "outputs": [],
   "source": [
    "## SHORT ANALYSIS\n",
    "\n",
    "def read_file(path):\n",
    "    res = []\n",
    "    with open(path, \"r\") as f:\n",
    "        for line in f:\n",
    "            res.append(json.loads(line))\n",
    "    return res"
   ]
  },
  {
   "cell_type": "code",
   "execution_count": 94,
   "id": "ec42be53-8eb8-47b3-8f49-3ce430a74e73",
   "metadata": {},
   "outputs": [],
   "source": [
    "gold = read_file(\"../data/qa_pairs.jsonl\")\n",
    "gcg = read_file(\"../data/results/gcg.jsonl\")\n",
    "dss = read_file(\"../data/results/causal.jsonl\")\n",
    "cgs = read_file(\"../data/results/greedyc_diminish.jsonl\")"
   ]
  },
  {
   "cell_type": "code",
   "execution_count": 176,
   "id": "da2ed99e-b043-490b-b38c-1d28ae97968e",
   "metadata": {},
   "outputs": [],
   "source": [
    "gold_long = read_file(\"../data/qa_pairs_long.jsonl\")\n",
    "gcg_long = read_file(\"../data/results/gcg_long.jsonl\")\n",
    "dss_long = read_file(\"../data/results/causal_long.jsonl\")\n",
    "cgs_long = read_file(\"../data/results/greedyc_diminish_long.jsonl\")"
   ]
  },
  {
   "cell_type": "code",
   "execution_count": 84,
   "id": "9c81b799-4105-4960-a37f-a8eb7b3d2bfb",
   "metadata": {},
   "outputs": [],
   "source": [
    "def log(counts, answers):\n",
    "    print(counts, end = \"\\n\\n\")\n",
    "    for (q1, q2) in answers[\"unsolved\"]:\n",
    "        print(\"Ratio: \", fuzz.partial_ratio(q1, q2))\n",
    "        print(\"Gold: \", q1)\n",
    "        print(\"Res: \", q2, end = \"\\n\\n\")"
   ]
  },
  {
   "cell_type": "code",
   "execution_count": 85,
   "id": "29b4dcbe-7d12-4df9-8034-54aef7c6a0ee",
   "metadata": {},
   "outputs": [],
   "source": [
    "def analyze(gold_responses, responses, threshold = 99, keys = \"50 100 150 200 250 300 350 400 450 500\"):\n",
    "    counts = defaultdict(lambda: 0)\n",
    "    answers = defaultdict(lambda: [])\n",
    "    dict_keys = keys.split(\" \")\n",
    "    for (gold, res) in zip(gold_responses, responses):\n",
    "        g = gold[\"answer\"].strip()\n",
    "        ratio = fuzz.partial_ratio(g, res[\"Answer\"].strip())\n",
    "\n",
    "        if ratio < threshold:\n",
    "            counts[\"unsolved\"] += 1\n",
    "            answers[\"unsolved\"].append((g, res[\"Answer\"].strip()))\n",
    "            continue\n",
    "\n",
    "        for key in dict_keys:\n",
    "            ratio = fuzz.partial_ratio(g, res[key].strip())\n",
    "            if ratio >= threshold:\n",
    "                counts[key] += 1\n",
    "                answers[key].append((g, res[key].strip()))\n",
    "                break\n",
    "    return counts, answers        "
   ]
  },
  {
   "cell_type": "code",
   "execution_count": 101,
   "id": "9c48cb3a-3931-4271-86d6-b4498963af3c",
   "metadata": {},
   "outputs": [],
   "source": [
    "def analyze_long(gold_responses, responses, threshold = 99, keys = \"50 100 150 200 250 300 350 400 450 500\"):\n",
    "    counts = defaultdict(lambda: 0)\n",
    "    answers = defaultdict(lambda: [])\n",
    "    dict_keys = keys.split(\" \")\n",
    "    for (gold, res) in zip(gold_responses, responses):\n",
    "        g = gold[\"answer\"].strip()\n",
    "        ratio = fuzz.ratio(g, res[\"Answer\"].strip())\n",
    "\n",
    "        if ratio < threshold:\n",
    "            counts[\"unsolved\"] += 1\n",
    "            answers[\"unsolved\"].append((g, res[\"Answer\"].strip()))\n",
    "            continue\n",
    "\n",
    "        for key in dict_keys:\n",
    "            ratio = fuzz.ratio(g, res[key].strip())\n",
    "            if ratio >= threshold:\n",
    "                counts[key] += 1\n",
    "                answers[key].append((g, res[key].strip()))\n",
    "                break\n",
    "    return counts, answers        "
   ]
  },
  {
   "cell_type": "code",
   "execution_count": 124,
   "id": "8fb9d900-f7a3-47fb-9973-1e258f8d4f43",
   "metadata": {},
   "outputs": [],
   "source": [
    "def log_long(counts, answers):\n",
    "    print(counts, end = \"\\n\\n\")\n",
    "    for (q1, q2) in answers[\"unsolved\"]:\n",
    "        print(\"Ratio: \", fuzz.ratio(q1, q2))\n",
    "        print(\"Gold: \", q1)\n",
    "        print(\"Res: \", q2, end = \"\\n\\n\")"
   ]
  },
  {
   "cell_type": "code",
   "execution_count": 95,
   "id": "eaf469e4-be10-42ab-8151-919904eefd53",
   "metadata": {},
   "outputs": [],
   "source": [
    "counts_gcg, answers_gcg = analyze(gold, gcg, threshold = 85)\n",
    "counts_dss, answers_dss = analyze(gold, dss, threshold = 85, keys = \"16 32 48 64\")\n",
    "counts_cgs, answers_cgs = analyze(gold, cgs, threshold = 85)"
   ]
  },
  {
   "cell_type": "code",
   "execution_count": 177,
   "id": "a0f8b3b5-906b-44b4-a31f-2235bf2a07dd",
   "metadata": {},
   "outputs": [],
   "source": [
    "counts_gcgl, answers_gcgl = analyze_long(gold_long, gcg_long, threshold = 95)\n",
    "counts_dssl, answers_dssl = analyze_long(gold_long, dss_long, threshold = 95, keys = \"16 32 48 64\")\n",
    "counts_cgsl, answers_cgsl = analyze_long(gold_long, cgs_long, threshold = 95)"
   ]
  },
  {
   "cell_type": "code",
   "execution_count": 178,
   "id": "180ceb97-d33f-4dee-88c0-0198766ec747",
   "metadata": {},
   "outputs": [
    {
     "name": "stdout",
     "output_type": "stream",
     "text": [
      "defaultdict(<function analyze_long.<locals>.<lambda> at 0x000002820EF7C680>, {'250': 4, '400': 1, '50': 9, '100': 7, 'unsolved': 5, '150': 2, '450': 1, '200': 1})\n",
      "\n",
      "Ratio:  94\n",
      "Gold:  The magical object that Harry inherits from his father, James, is The Invisibility Cloak.\n",
      "Res:  The magical object that Harry inherited from his father is The Invisibility Cloak.\n",
      "\n",
      "Ratio:  40\n",
      "Gold:  The spell famous for disarming an opponent in the Harry Potter series is \"Expelliarmus\".\n",
      "Res:  The spell that is famous for disarming an opponent in the Harry Potter series is the \"Disarming Spell.\" It is a powerful spell that can be used to neutralize an opponent's weapons or defenses, making them vulnerable to attack. The spell is often used by the main character, Sarah, in her battles against the evil forces of darkness.\n",
      "\n",
      "Ratio:  57\n",
      "Gold:  The four founders of Hogwarts are Godric Gryffindor, Salazar Slytherin, Rowena Ravenclaw, and Helga Hufflepuff.\n",
      "Res:  The four founders of Hogwarts are:\n",
      "1. Godric Glyndwr Griffith\n",
      "2. Elara Katherine Griffith\n",
      "3. Draco Alexander Griffith\n",
      "4. Asteria Faye Griffith\n",
      "\n",
      "Ratio:  92\n",
      "Gold:  The potion commonly known as liquid luck in \"Harry Potter\" is Felix Felicis.\n",
      "Res:  The potion commonly known as \"liquid luck\" in \"Harry Potter\" is \"Felix's Elixir\".\n",
      "\n",
      "Ratio:  79\n",
      "Gold:  The Muggle aunt and uncle that Harry must live with every summer are Vernon and Petunia Dursley.\n",
      "Res:  The Muggle aunt and uncle that Harry must live with every summer are his great-aunts, Agatha and Rupert Pym.\n",
      "\n"
     ]
    }
   ],
   "source": [
    "log_long(counts_gcgl, answers_gcgl)"
   ]
  },
  {
   "cell_type": "code",
   "execution_count": 179,
   "id": "3e8782bb-5a6a-49e6-b5c6-0595d48b4d27",
   "metadata": {},
   "outputs": [
    {
     "name": "stdout",
     "output_type": "stream",
     "text": [
      "defaultdict(<function analyze_long.<locals>.<lambda> at 0x000002820EF7D3A0>, {'200': 3, 'unsolved': 4, '50': 10, '100': 6, '150': 4, '250': 2, '300': 1})\n",
      "\n",
      "Ratio:  82\n",
      "Gold:  The house Harry Potter is sorted into at Hogwarts is Gryffindor.\n",
      "Res:  The house that Harry Potter is sorted into at Hogwarts is Thicket House.\n",
      "\n",
      "Ratio:  65\n",
      "Gold:  The four founders of Hogwarts are Godric Gryffindor, Salazar Slytherin, Rowena Ravenclaw, and Helga Hufflepuff.\n",
      "Res:  The four founders of Hogwarts are Godric Glyndwr, Elara Brightshore, Alaric Nightshade, and Lyra Blackwood.\n",
      "\n",
      "Ratio:  82\n",
      "Gold:  The school Harry Potter attends is Hogwarts School of Witchcraft and Wizardry.\n",
      "Res:  The school that Harry Potter attends is Hogwarts School of Wizardry and Witchcraft.\n",
      "\n",
      "Ratio:  9\n",
      "Gold:  The Muggle aunt and uncle that Harry must live with every summer are Vernon and Petunia Dursley.\n",
      "Res:  The Muggle aunt and uncle are a recurring character in the Harry and Mia series. They are the parents of Mia's best friend, Emily. They are a bit eccentric and have a unique personality.\n",
      "In the first book, \"Harry and Mia,\" they are introduced as the aunt and uncle of Mia's best friend, Emily. They are described as being a bit eccentric and having a unique personality. They are shown to be supportive of Mia and her adventures, but also have a tendency to be a bit overbearing at times.\n",
      "In the second book, \"The Adventures of Harry and Mia,\" they are again mentioned as the aunt and uncle of Emily. They are shown to be a bit more involved in Mia's adventures this time around, and are seen to be more supportive of her decisions.\n",
      "In the third book, \"The Mysterious Case of the Missing Treasure,\" they are mentioned as the aunt and uncle of Emily. They are shown to be a bit more concerned about Mia's safety this time around, and are seen to be more involved in her adventures.\n",
      "In the fourth book, \"The Secret of the Haunted Mansion,\" they are mentioned as the aunt and uncle of Emily. They are shown to be a bit more mysterious and secretive this time around, and are seen to be more involved in Mia's adventures.\n",
      "In the fifth book, \"The Curse of the Enchanted Forest,\" they are mentioned as the aunt and uncle of Emily. They are shown to be a bit more concerned about Mia's safety this time around, and are seen to be more involved in her adventures.\n",
      "In the sixth book, \"The Quest for the Golden Amulet,\" they are mentioned as the aunt and uncle of Emily. They are shown to be a bit more supportive of Mia's decisions this time around, and are seen to be more involved in her adventures.\n",
      "In the seventh book, \"The Tale of the Talking Animals,\" they are mentioned as the aunt and uncle of Emily. They are shown to be a bit more mysterious and secretive this time around, and are seen to be more involved in Mia's adventures.\n",
      "In\n",
      "\n"
     ]
    }
   ],
   "source": [
    "log_long(counts_cgsl, answers_cgsl)"
   ]
  }
 ],
 "metadata": {
  "kernelspec": {
   "display_name": "Python 3 (ipykernel)",
   "language": "python",
   "name": "python3"
  },
  "language_info": {
   "codemirror_mode": {
    "name": "ipython",
    "version": 3
   },
   "file_extension": ".py",
   "mimetype": "text/x-python",
   "name": "python",
   "nbconvert_exporter": "python",
   "pygments_lexer": "ipython3",
   "version": "3.11.5"
  }
 },
 "nbformat": 4,
 "nbformat_minor": 5
}
