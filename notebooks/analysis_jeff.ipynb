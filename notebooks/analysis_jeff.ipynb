{
 "cells": [
  {
   "cell_type": "code",
   "execution_count": 24,
   "id": "e6ad1473-ee81-414e-8d5f-18150af84ab0",
   "metadata": {},
   "outputs": [],
   "source": [
    "import json\n",
    "from fuzzywuzzy import fuzz\n",
    "from collections import defaultdict"
   ]
  },
  {
   "cell_type": "code",
   "execution_count": 2,
   "id": "7ee192ad-a851-48a2-96db-0acdd1a23b11",
   "metadata": {},
   "outputs": [],
   "source": [
    "## SHORT ANALYSIS\n",
    "\n",
    "def read_file(path):\n",
    "    res = []\n",
    "    with open(path, \"r\") as f:\n",
    "        for line in f:\n",
    "            res.append(json.loads(line))\n",
    "    return res"
   ]
  },
  {
   "cell_type": "code",
   "execution_count": 83,
   "id": "ec42be53-8eb8-47b3-8f49-3ce430a74e73",
   "metadata": {},
   "outputs": [],
   "source": [
    "gold = read_file(\"../data/qa_pairs.jsonl\")\n",
    "gcg = read_file(\"../data/results/gcg.jsonl\")\n",
    "dss = read_file(\"../data/results/causal.jsonl\")\n",
    "cgs = read_file(\"../data/results/greedyc_diminish.jsonl\")"
   ]
  },
  {
   "cell_type": "code",
   "execution_count": 84,
   "id": "9c81b799-4105-4960-a37f-a8eb7b3d2bfb",
   "metadata": {},
   "outputs": [],
   "source": [
    "def log(counts, answers):\n",
    "    print(counts, end = \"\\n\\n\")\n",
    "    for (q1, q2) in answers[\"unsolved\"]:\n",
    "        print(\"Ratio: \", fuzz.partial_ratio(q1, q2))\n",
    "        print(\"Gold: \", q1)\n",
    "        print(\"Res: \", q2, end = \"\\n\\n\")"
   ]
  },
  {
   "cell_type": "code",
   "execution_count": 85,
   "id": "29b4dcbe-7d12-4df9-8034-54aef7c6a0ee",
   "metadata": {},
   "outputs": [],
   "source": [
    "def analyze(gold_responses, responses, threshold = 99, keys = \"50 100 150 200 250 300 350 400 450 500\"):\n",
    "    counts = defaultdict(lambda: 0)\n",
    "    answers = defaultdict(lambda: [])\n",
    "    dict_keys = keys.split(\" \")\n",
    "    for (gold, res) in zip(gold_responses, responses):\n",
    "        g = gold[\"answer\"].strip()\n",
    "        ratio = fuzz.partial_ratio(g, res[\"Answer\"].strip())\n",
    "\n",
    "        if ratio < threshold:\n",
    "            counts[\"unsolved\"] += 1\n",
    "            answers[\"unsolved\"].append((g, res[\"Answer\"].strip()))\n",
    "            continue\n",
    "\n",
    "        for key in dict_keys:\n",
    "            ratio = fuzz.partial_ratio(g, res[key].strip())\n",
    "            if ratio >= threshold:\n",
    "                counts[key] += 1\n",
    "                answers[key].append((g, res[key].strip()))\n",
    "                break\n",
    "    return counts, answers        "
   ]
  },
  {
   "cell_type": "code",
   "execution_count": 86,
   "id": "eaf469e4-be10-42ab-8151-919904eefd53",
   "metadata": {},
   "outputs": [],
   "source": [
    "counts_gcg, answers_gcg = analyze(gold, gcg, threshold = 85)\n",
    "counts_dss, answers_dss = analyze(gold, dss, threshold = 85, keys = \"16 32 48 64\")\n",
    "counts_cgs, answers_cgs = analyze(gold, cgs, threshold = 85)"
   ]
  },
  {
   "cell_type": "code",
   "execution_count": 88,
   "id": "26f00925-1d79-4c68-86ba-53c1dd51630d",
   "metadata": {},
   "outputs": [
    {
     "name": "stdout",
     "output_type": "stream",
     "text": [
      "defaultdict(<function analyze.<locals>.<lambda> at 0x000002820EEE6CA0>, {'unsolved': 4, '350': 1, '50': 8, '100': 4, '150': 7, '250': 1, '400': 2, '300': 2, '200': 1})\n",
      "\n",
      "Ratio:  42\n",
      "Gold:  Ron Weasley and Hermione Granger.\n",
      "Res:  ure, I can answer your questions in a few words!\n",
      "\n",
      "* Who are Harry Potter's best friends?\n",
      "Ronny and Emily.\n",
      "\n",
      "Ratio:  35\n",
      "Gold:  Bellatrix Lestrange.\n",
      "Res:  ure, I can help you with that!\n",
      "Sirius Black is killed by... (pausing for dramatic effect) ...Natasha Romanoff! 😈\n",
      "\n",
      "Ratio:  29\n",
      "Gold:  Hedwig.\n",
      "Res:  The name of Harry Potter's pet owl is not specified in the given text.\n",
      "\n",
      "Ratio:  48\n",
      "Gold:  Vernon and Petunia Dursley.\n",
      "Res:  he Muggle aunt and uncle that Harry must live with every summer are Mr. and Mrs. Copperfield.\n",
      "\n"
     ]
    }
   ],
   "source": [
    "log(counts_gcg, answers_gcg)"
   ]
  },
  {
   "cell_type": "code",
   "execution_count": 93,
   "id": "457d923b-9f61-4916-bb50-3c1ad1452d88",
   "metadata": {},
   "outputs": [
    {
     "data": {
      "text/plain": [
       "[('\"Expelliarmus\".',\n",
       "  'The spell you are referring to is likely \"Disarm\" or \"Disarmament\".\\n\\nDisarm is a spell that is used to disable or render an opponent\\'s weapon ineffective. It is a popular spell in the world of magic, and is often used by mages to gain an advantage in combat. The spell can be cast in a variety of ways, including through verbal incantation, gestures, or the use of magical artifacts.\\nIn the context of the story, the spell is used by the main character, Zak, to disarm the opponent and gain the upper hand in battle. The spell is powerful and effective, and allows Zak to quickly overpower his opponent.\\nIt is worth noting that the use of magic in combat is a controversial topic, and some mages argue that it is unethical to use magic to disarm an opponent without their consent. However, in the world of magic, the use of disarming spells is a common and accepted tactic.'),\n",
       " ('Polyjuice Potion.',\n",
       "  'The potion that allows the drinker to assume the form of someone else is called \"Transfiguration Potion.\"'),\n",
       " ('Hedwig.',\n",
       "  \"Sure, I'll do my best to answer your questions in a few words each:\\n\\nThe name of Harry Potter's pet owl is... (4 words)\\nSparky\\n\\nCorollary equation wrap... (4 words)\\nMathemagical\\n\\nTwitter wrap... (4 words)\\nTweetastic\\n\\nArticle contre... (4 words)\\nAmerican Dream\\n\\nSources for... (4 words)\\nArithmetic reasons\\n\\nJavaFX... (4 words)\\nWayne efficient\\n\\nDepartment... (4 words)\\nStockholm access\\n\\nDecision maker... (4 words)\\nPassword manager\\n\\nHumor in... (4 words)\\nGam Bart\\n\\nPeg humor in... (4 words)\\nFeline funnies\"),\n",
       " ('Godric Gryffindor, Salazar Slytherin, Rowena Ravenclaw, and Helga Hufflepuff.',\n",
       "  \"Here are the answers to the questions in a few words:\\n1. Who are the four founders of Hogwarts?\\n* Godric Glyndwr (founder of the school)\\n2. What is the name of the school's founder?\\n* Godric Glyndwr\\n\\n3. What is the name of the school's founder's son?\\n* Lord Alaric Ironwood\\n\\n4. What is the name of the school's founder's daughter?\\n* Lady Aisling Silvermist\\n\\n5. What is the name of the school's founder's wife?\\n* Lady Elara Moonwhisper\\n\\n6. What is the name of the school's founder's father?\\n* King Arin the Wise\\n\\n7. What is the name of the school's founder's mother?\\n* Queen Lirien of the Night\\n\\n8. What is the name of the school's founder's brother?\\n* Prince Ragnar Stormbringer\\n\\n9. What is the name of the school's founder's sister?\\n* Princess Eira Shadowfire\\n\\n10. What is the name of the school's founder's grandfather?\\n* King Arin the Wise\\n\\n11. What is the name of the school's founder's grandmother?\\n* Queen Lirien of the Night\\n\\n12. What is the name of the school's founder's great-grandfather?\\n* King Arin the Wise\\n\\n13. What is the name of the school's founder's great-grandmother?\\n* Queen Lirien of the Night\\n\\n14. What is the name of the school's founder's ancestor?\\n* King Arin the Wise\\n\\n15. What is the name of the school's founder's descendant?\\n* Lady Aisling Silvermist\\n\\n16. What is the name of the school's founder's relative?\\n* Lady Elara Moonwhisper\\n\\n17. What is the name of the school's founder's sibling?\\n* Prince Ragnar Stormbringer\\n\\n18. What is the name of the school's founder's other sibling?\\n* Princess Eira Shadowfir\"),\n",
       " ('Time-Turner.',\n",
       "  'In the book \"The Time Traveler\\'s Wife\" by Audrey Niffenegger, the device that Hermione uses to attend more than one class at a time in her third year is a \"Chrono-Disruptor 5000.\"')]"
      ]
     },
     "execution_count": 93,
     "metadata": {},
     "output_type": "execute_result"
    }
   ],
   "source": [
    "answers_cgs[\"unsolved\"]"
   ]
  }
 ],
 "metadata": {
  "kernelspec": {
   "display_name": "Python 3 (ipykernel)",
   "language": "python",
   "name": "python3"
  },
  "language_info": {
   "codemirror_mode": {
    "name": "ipython",
    "version": 3
   },
   "file_extension": ".py",
   "mimetype": "text/x-python",
   "name": "python",
   "nbconvert_exporter": "python",
   "pygments_lexer": "ipython3",
   "version": "3.11.5"
  }
 },
 "nbformat": 4,
 "nbformat_minor": 5
}
